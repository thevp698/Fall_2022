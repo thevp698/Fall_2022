{
 "cells": [
  {
   "cell_type": "markdown",
   "metadata": {
    "id": "RJ8JZPl_NEIm"
   },
   "source": [
    "# Exploration notebook"
   ]
  },
  {
   "cell_type": "markdown",
   "metadata": {
    "id": "E9w59kDWNEIs"
   },
   "source": [
    "## Imports"
   ]
  },
  {
   "cell_type": "code",
   "source": [
    "!pip install textacy\n",
    "!pip install tweet-preprocessor"
   ],
   "metadata": {
    "colab": {
     "base_uri": "https://localhost:8080/"
    },
    "id": "TdFVjCeBQu1D",
    "executionInfo": {
     "status": "ok",
     "timestamp": 1669524063383,
     "user_tz": 300,
     "elapsed": 8236,
     "user": {
      "displayName": "Romain Bazin",
      "userId": "09336063328901162165"
     }
    },
    "outputId": "b5a7f283-9f06-4631-8f05-15bf83d6fd05"
   },
   "execution_count": 17,
   "outputs": [
    {
     "output_type": "stream",
     "name": "stdout",
     "text": [
      "Looking in indexes: https://pypi.org/simple, https://us-python.pkg.dev/colab-wheels/public/simple/\n",
      "Requirement already satisfied: textacy in /usr/local/lib/python3.7/dist-packages (0.11.0)\n",
      "Requirement already satisfied: cytoolz>=0.10.1 in /usr/local/lib/python3.7/dist-packages (from textacy) (0.12.0)\n",
      "Requirement already satisfied: tqdm>=4.19.6 in /usr/local/lib/python3.7/dist-packages (from textacy) (4.64.1)\n",
      "Requirement already satisfied: networkx>=2.0 in /usr/local/lib/python3.7/dist-packages (from textacy) (2.6.3)\n",
      "Requirement already satisfied: pyphen>=0.10.0 in /usr/local/lib/python3.7/dist-packages (from textacy) (0.13.1)\n",
      "Requirement already satisfied: scikit-learn>=0.19.0 in /usr/local/lib/python3.7/dist-packages (from textacy) (1.0.2)\n",
      "Requirement already satisfied: requests>=2.10.0 in /usr/local/lib/python3.7/dist-packages (from textacy) (2.23.0)\n",
      "Requirement already satisfied: numpy>=1.17.0 in /usr/local/lib/python3.7/dist-packages (from textacy) (1.21.6)\n",
      "Requirement already satisfied: joblib>=0.13.0 in /usr/local/lib/python3.7/dist-packages (from textacy) (1.2.0)\n",
      "Requirement already satisfied: spacy>=3.0.0 in /usr/local/lib/python3.7/dist-packages (from textacy) (3.4.3)\n",
      "Requirement already satisfied: cachetools>=4.0.0 in /usr/local/lib/python3.7/dist-packages (from textacy) (5.2.0)\n",
      "Requirement already satisfied: scipy>=0.17.0 in /usr/local/lib/python3.7/dist-packages (from textacy) (1.7.3)\n",
      "Requirement already satisfied: jellyfish>=0.8.0 in /usr/local/lib/python3.7/dist-packages (from textacy) (0.9.0)\n",
      "Requirement already satisfied: toolz>=0.8.0 in /usr/local/lib/python3.7/dist-packages (from cytoolz>=0.10.1->textacy) (0.12.0)\n",
      "Requirement already satisfied: urllib3!=1.25.0,!=1.25.1,<1.26,>=1.21.1 in /usr/local/lib/python3.7/dist-packages (from requests>=2.10.0->textacy) (1.24.3)\n",
      "Requirement already satisfied: idna<3,>=2.5 in /usr/local/lib/python3.7/dist-packages (from requests>=2.10.0->textacy) (2.10)\n",
      "Requirement already satisfied: chardet<4,>=3.0.2 in /usr/local/lib/python3.7/dist-packages (from requests>=2.10.0->textacy) (3.0.4)\n",
      "Requirement already satisfied: certifi>=2017.4.17 in /usr/local/lib/python3.7/dist-packages (from requests>=2.10.0->textacy) (2022.9.24)\n",
      "Requirement already satisfied: threadpoolctl>=2.0.0 in /usr/local/lib/python3.7/dist-packages (from scikit-learn>=0.19.0->textacy) (3.1.0)\n",
      "Requirement already satisfied: murmurhash<1.1.0,>=0.28.0 in /usr/local/lib/python3.7/dist-packages (from spacy>=3.0.0->textacy) (1.0.9)\n",
      "Requirement already satisfied: packaging>=20.0 in /usr/local/lib/python3.7/dist-packages (from spacy>=3.0.0->textacy) (21.3)\n",
      "Requirement already satisfied: typing-extensions<4.2.0,>=3.7.4 in /usr/local/lib/python3.7/dist-packages (from spacy>=3.0.0->textacy) (4.1.1)\n",
      "Requirement already satisfied: pydantic!=1.8,!=1.8.1,<1.11.0,>=1.7.4 in /usr/local/lib/python3.7/dist-packages (from spacy>=3.0.0->textacy) (1.10.2)\n",
      "Requirement already satisfied: thinc<8.2.0,>=8.1.0 in /usr/local/lib/python3.7/dist-packages (from spacy>=3.0.0->textacy) (8.1.5)\n",
      "Requirement already satisfied: jinja2 in /usr/local/lib/python3.7/dist-packages (from spacy>=3.0.0->textacy) (2.11.3)\n",
      "Requirement already satisfied: typer<0.8.0,>=0.3.0 in /usr/local/lib/python3.7/dist-packages (from spacy>=3.0.0->textacy) (0.7.0)\n",
      "Requirement already satisfied: langcodes<4.0.0,>=3.2.0 in /usr/local/lib/python3.7/dist-packages (from spacy>=3.0.0->textacy) (3.3.0)\n",
      "Requirement already satisfied: srsly<3.0.0,>=2.4.3 in /usr/local/lib/python3.7/dist-packages (from spacy>=3.0.0->textacy) (2.4.5)\n",
      "Requirement already satisfied: catalogue<2.1.0,>=2.0.6 in /usr/local/lib/python3.7/dist-packages (from spacy>=3.0.0->textacy) (2.0.8)\n",
      "Requirement already satisfied: pathy>=0.3.5 in /usr/local/lib/python3.7/dist-packages (from spacy>=3.0.0->textacy) (0.8.1)\n",
      "Requirement already satisfied: preshed<3.1.0,>=3.0.2 in /usr/local/lib/python3.7/dist-packages (from spacy>=3.0.0->textacy) (3.0.8)\n",
      "Requirement already satisfied: wasabi<1.1.0,>=0.9.1 in /usr/local/lib/python3.7/dist-packages (from spacy>=3.0.0->textacy) (0.10.1)\n",
      "Requirement already satisfied: spacy-legacy<3.1.0,>=3.0.10 in /usr/local/lib/python3.7/dist-packages (from spacy>=3.0.0->textacy) (3.0.10)\n",
      "Requirement already satisfied: setuptools in /usr/local/lib/python3.7/dist-packages (from spacy>=3.0.0->textacy) (57.4.0)\n",
      "Requirement already satisfied: spacy-loggers<2.0.0,>=1.0.0 in /usr/local/lib/python3.7/dist-packages (from spacy>=3.0.0->textacy) (1.0.3)\n",
      "Requirement already satisfied: cymem<2.1.0,>=2.0.2 in /usr/local/lib/python3.7/dist-packages (from spacy>=3.0.0->textacy) (2.0.7)\n",
      "Requirement already satisfied: zipp>=0.5 in /usr/local/lib/python3.7/dist-packages (from catalogue<2.1.0,>=2.0.6->spacy>=3.0.0->textacy) (3.10.0)\n",
      "Requirement already satisfied: pyparsing!=3.0.5,>=2.0.2 in /usr/local/lib/python3.7/dist-packages (from packaging>=20.0->spacy>=3.0.0->textacy) (3.0.9)\n",
      "Requirement already satisfied: smart-open<6.0.0,>=5.2.1 in /usr/local/lib/python3.7/dist-packages (from pathy>=0.3.5->spacy>=3.0.0->textacy) (5.2.1)\n",
      "Requirement already satisfied: blis<0.8.0,>=0.7.8 in /usr/local/lib/python3.7/dist-packages (from thinc<8.2.0,>=8.1.0->spacy>=3.0.0->textacy) (0.7.9)\n",
      "Requirement already satisfied: confection<1.0.0,>=0.0.1 in /usr/local/lib/python3.7/dist-packages (from thinc<8.2.0,>=8.1.0->spacy>=3.0.0->textacy) (0.0.3)\n",
      "Requirement already satisfied: click<9.0.0,>=7.1.1 in /usr/local/lib/python3.7/dist-packages (from typer<0.8.0,>=0.3.0->spacy>=3.0.0->textacy) (7.1.2)\n",
      "Requirement already satisfied: MarkupSafe>=0.23 in /usr/local/lib/python3.7/dist-packages (from jinja2->spacy>=3.0.0->textacy) (2.0.1)\n",
      "Looking in indexes: https://pypi.org/simple, https://us-python.pkg.dev/colab-wheels/public/simple/\n",
      "Collecting tweet-preprocessor\n",
      "  Downloading tweet_preprocessor-0.6.0-py3-none-any.whl (27 kB)\n",
      "Installing collected packages: tweet-preprocessor\n",
      "Successfully installed tweet-preprocessor-0.6.0\n"
     ]
    }
   ]
  },
  {
   "cell_type": "code",
   "execution_count": 1,
   "metadata": {
    "colab": {
     "base_uri": "https://localhost:8080/"
    },
    "id": "c6DNCt4vNEIu",
    "executionInfo": {
     "status": "ok",
     "timestamp": 1669521095726,
     "user_tz": 300,
     "elapsed": 23886,
     "user": {
      "displayName": "Romain Bazin",
      "userId": "09336063328901162165"
     }
    },
    "outputId": "8d9861e3-106e-4d99-be06-b159d79f9e50"
   },
   "outputs": [],
   "source": [
    "import numpy as np\n",
    "import pandas as pd\n",
    "import matplotlib.pyplot as plt\n",
    "import seaborn as sns\n",
    "import os"
   ]
  },
  {
   "cell_type": "code",
   "execution_count": null,
   "outputs": [],
   "source": [
    "# Google drive files for data\n",
    "from google.colab import drive\n",
    "drive.mount('/content/drive')"
   ],
   "metadata": {
    "collapsed": false
   }
  },
  {
   "cell_type": "code",
   "source": [
    "PATH_TRAIN = os.path.join(\"train.csv\")"
   ],
   "metadata": {
    "id": "N73BznsLNMie",
    "executionInfo": {
     "status": "ok",
     "timestamp": 1669521095727,
     "user_tz": 300,
     "elapsed": 6,
     "user": {
      "displayName": "Romain Bazin",
      "userId": "09336063328901162165"
     }
    }
   },
   "execution_count": 2,
   "outputs": []
  },
  {
   "cell_type": "markdown",
   "metadata": {
    "id": "G6vD460fNEIx"
   },
   "source": [
    "## Data exploration <a class=\"anchor\" id=\"data-exploration\"></a>"
   ]
  },
  {
   "cell_type": "markdown",
   "metadata": {
    "id": "SdWx4Sy7NEIy"
   },
   "source": [
    "### General information"
   ]
  },
  {
   "cell_type": "code",
   "execution_count": 3,
   "metadata": {
    "colab": {
     "base_uri": "https://localhost:8080/",
     "height": 215
    },
    "id": "7CIWFW0iNEIz",
    "executionInfo": {
     "status": "ok",
     "timestamp": 1669521099327,
     "user_tz": 300,
     "elapsed": 883,
     "user": {
      "displayName": "Romain Bazin",
      "userId": "09336063328901162165"
     }
    },
    "outputId": "25e18e6b-12b1-4f30-c1a4-5af5002bf02b"
   },
   "outputs": [
    {
     "data": {
      "text/plain": "   id keyword location                                               text  \\\n0   1     NaN      NaN  Our Deeds are the Reason of this #earthquake M...   \n1   4     NaN      NaN             Forest fire near La Ronge Sask. Canada   \n2   5     NaN      NaN  All residents asked to 'shelter in place' are ...   \n3   6     NaN      NaN  13,000 people receive #wildfires evacuation or...   \n4   7     NaN      NaN  Just got sent this photo from Ruby #Alaska as ...   \n\n   target  \n0       1  \n1       1  \n2       1  \n3       1  \n4       1  ",
      "text/html": "<div>\n<style scoped>\n    .dataframe tbody tr th:only-of-type {\n        vertical-align: middle;\n    }\n\n    .dataframe tbody tr th {\n        vertical-align: top;\n    }\n\n    .dataframe thead th {\n        text-align: right;\n    }\n</style>\n<table border=\"1\" class=\"dataframe\">\n  <thead>\n    <tr style=\"text-align: right;\">\n      <th></th>\n      <th>id</th>\n      <th>keyword</th>\n      <th>location</th>\n      <th>text</th>\n      <th>target</th>\n    </tr>\n  </thead>\n  <tbody>\n    <tr>\n      <th>0</th>\n      <td>1</td>\n      <td>NaN</td>\n      <td>NaN</td>\n      <td>Our Deeds are the Reason of this #earthquake M...</td>\n      <td>1</td>\n    </tr>\n    <tr>\n      <th>1</th>\n      <td>4</td>\n      <td>NaN</td>\n      <td>NaN</td>\n      <td>Forest fire near La Ronge Sask. Canada</td>\n      <td>1</td>\n    </tr>\n    <tr>\n      <th>2</th>\n      <td>5</td>\n      <td>NaN</td>\n      <td>NaN</td>\n      <td>All residents asked to 'shelter in place' are ...</td>\n      <td>1</td>\n    </tr>\n    <tr>\n      <th>3</th>\n      <td>6</td>\n      <td>NaN</td>\n      <td>NaN</td>\n      <td>13,000 people receive #wildfires evacuation or...</td>\n      <td>1</td>\n    </tr>\n    <tr>\n      <th>4</th>\n      <td>7</td>\n      <td>NaN</td>\n      <td>NaN</td>\n      <td>Just got sent this photo from Ruby #Alaska as ...</td>\n      <td>1</td>\n    </tr>\n  </tbody>\n</table>\n</div>"
     },
     "execution_count": 3,
     "metadata": {},
     "output_type": "execute_result"
    }
   ],
   "source": [
    "train_df = pd.read_csv(PATH_TRAIN)\n",
    "train_df.head()"
   ]
  },
  {
   "cell_type": "code",
   "execution_count": null,
   "metadata": {
    "id": "aAdOkS-LNEI0",
    "outputId": "3634d5e9-a184-4475-d245-a1b471e89eef"
   },
   "outputs": [
    {
     "data": {
      "text/html": [
       "<div>\n",
       "<style scoped>\n",
       "    .dataframe tbody tr th:only-of-type {\n",
       "        vertical-align: middle;\n",
       "    }\n",
       "\n",
       "    .dataframe tbody tr th {\n",
       "        vertical-align: top;\n",
       "    }\n",
       "\n",
       "    .dataframe thead th {\n",
       "        text-align: right;\n",
       "    }\n",
       "</style>\n",
       "<table border=\"1\" class=\"dataframe\">\n",
       "  <thead>\n",
       "    <tr style=\"text-align: right;\">\n",
       "      <th></th>\n",
       "      <th>id</th>\n",
       "      <th>keyword</th>\n",
       "      <th>location</th>\n",
       "      <th>text</th>\n",
       "    </tr>\n",
       "  </thead>\n",
       "  <tbody>\n",
       "    <tr>\n",
       "      <th>0</th>\n",
       "      <td>0</td>\n",
       "      <td>NaN</td>\n",
       "      <td>NaN</td>\n",
       "      <td>Just happened a terrible car crash</td>\n",
       "    </tr>\n",
       "    <tr>\n",
       "      <th>1</th>\n",
       "      <td>2</td>\n",
       "      <td>NaN</td>\n",
       "      <td>NaN</td>\n",
       "      <td>Heard about #earthquake is different cities, s...</td>\n",
       "    </tr>\n",
       "    <tr>\n",
       "      <th>2</th>\n",
       "      <td>3</td>\n",
       "      <td>NaN</td>\n",
       "      <td>NaN</td>\n",
       "      <td>there is a forest fire at spot pond, geese are...</td>\n",
       "    </tr>\n",
       "    <tr>\n",
       "      <th>3</th>\n",
       "      <td>9</td>\n",
       "      <td>NaN</td>\n",
       "      <td>NaN</td>\n",
       "      <td>Apocalypse lighting. #Spokane #wildfires</td>\n",
       "    </tr>\n",
       "    <tr>\n",
       "      <th>4</th>\n",
       "      <td>11</td>\n",
       "      <td>NaN</td>\n",
       "      <td>NaN</td>\n",
       "      <td>Typhoon Soudelor kills 28 in China and Taiwan</td>\n",
       "    </tr>\n",
       "  </tbody>\n",
       "</table>\n",
       "</div>"
      ],
      "text/plain": [
       "   id keyword location                                               text\n",
       "0   0     NaN      NaN                 Just happened a terrible car crash\n",
       "1   2     NaN      NaN  Heard about #earthquake is different cities, s...\n",
       "2   3     NaN      NaN  there is a forest fire at spot pond, geese are...\n",
       "3   9     NaN      NaN           Apocalypse lighting. #Spokane #wildfires\n",
       "4  11     NaN      NaN      Typhoon Soudelor kills 28 in China and Taiwan"
      ]
     },
     "execution_count": 3,
     "metadata": {},
     "output_type": "execute_result"
    }
   ],
   "source": [
    "test_df = pd.read_csv('./test.csv')\n",
    "test_df.head()"
   ]
  },
  {
   "cell_type": "code",
   "execution_count": null,
   "metadata": {
    "id": "dB2JilUNNEI1",
    "outputId": "27e9db2e-1d51-4139-a9d1-953309c02532"
   },
   "outputs": [
    {
     "name": "stdout",
     "output_type": "stream",
     "text": [
      "<class 'pandas.core.frame.DataFrame'>\n",
      "RangeIndex: 7613 entries, 0 to 7612\n",
      "Data columns (total 5 columns):\n",
      " #   Column    Non-Null Count  Dtype \n",
      "---  ------    --------------  ----- \n",
      " 0   id        7613 non-null   int64 \n",
      " 1   keyword   7552 non-null   object\n",
      " 2   location  5080 non-null   object\n",
      " 3   text      7613 non-null   object\n",
      " 4   target    7613 non-null   int64 \n",
      "dtypes: int64(2), object(3)\n",
      "memory usage: 297.5+ KB\n"
     ]
    }
   ],
   "source": [
    "train_df.info()"
   ]
  },
  {
   "cell_type": "code",
   "execution_count": null,
   "metadata": {
    "id": "jDKgZ7GqNEI2",
    "outputId": "d24ca080-29dc-4402-d938-e9cde022aa3a"
   },
   "outputs": [
    {
     "name": "stdout",
     "output_type": "stream",
     "text": [
      "<class 'pandas.core.frame.DataFrame'>\n",
      "RangeIndex: 3263 entries, 0 to 3262\n",
      "Data columns (total 4 columns):\n",
      " #   Column    Non-Null Count  Dtype \n",
      "---  ------    --------------  ----- \n",
      " 0   id        3263 non-null   int64 \n",
      " 1   keyword   3237 non-null   object\n",
      " 2   location  2158 non-null   object\n",
      " 3   text      3263 non-null   object\n",
      "dtypes: int64(1), object(3)\n",
      "memory usage: 102.1+ KB\n"
     ]
    }
   ],
   "source": [
    "test_df.info()"
   ]
  },
  {
   "cell_type": "markdown",
   "metadata": {
    "id": "a42cQgswNEI3"
   },
   "source": [
    "### Distribution of location entries"
   ]
  },
  {
   "cell_type": "code",
   "execution_count": null,
   "metadata": {
    "id": "qei8MKUCNEI4",
    "outputId": "1e4e9080-a5fc-4cce-99bd-92f53576db50"
   },
   "outputs": [
    {
     "data": {
      "text/plain": [
       "count     5080\n",
       "unique    3341\n",
       "top        USA\n",
       "freq       104\n",
       "Name: location, dtype: object"
      ]
     },
     "execution_count": 6,
     "metadata": {},
     "output_type": "execute_result"
    }
   ],
   "source": [
    "train_df[\"location\"].describe()"
   ]
  },
  {
   "cell_type": "code",
   "execution_count": null,
   "metadata": {
    "id": "IEma5YVpNEI4",
    "outputId": "5421018d-cf5b-4936-c8e5-05e9eca96f70"
   },
   "outputs": [
    {
     "data": {
      "text/plain": [
       "USA                    104\n",
       "New York                71\n",
       "United States           50\n",
       "London                  45\n",
       "Canada                  29\n",
       "                      ... \n",
       "MontrÌ©al, QuÌ©bec       1\n",
       "Montreal                 1\n",
       "ÌÏT: 6.4682,3.18287      1\n",
       "Live4Heed??              1\n",
       "Lincoln                  1\n",
       "Name: location, Length: 3341, dtype: int64"
      ]
     },
     "execution_count": 8,
     "metadata": {},
     "output_type": "execute_result"
    }
   ],
   "source": [
    "train_df[\"location\"].value_counts()"
   ]
  },
  {
   "cell_type": "code",
   "execution_count": null,
   "metadata": {
    "id": "TxlkHjsyNEI5",
    "outputId": "e62a72b8-08d8-4bf6-fc9e-3e8bbc2936c8"
   },
   "outputs": [
    {
     "data": {
      "text/plain": [
       "<AxesSubplot:>"
      ]
     },
     "execution_count": 9,
     "metadata": {},
     "output_type": "execute_result"
    },
    {
     "data": {
      "image/png": "[encoded data removed]",
      "text/plain": [
       "<Figure size 640x480 with 1 Axes>"
      ]
     },
     "metadata": {},
     "output_type": "display_data"
    }
   ],
   "source": [
    "# plot the distribution of the location for the 10 most common locations in percentage\n",
    "train_df[\"location\"].value_counts(normalize=True).head(20).plot(kind=\"barh\")"
   ]
  },
  {
   "cell_type": "markdown",
   "metadata": {
    "id": "9Wn9Sq1ANEI5"
   },
   "source": [
    "We can see there's a lot of repetition in the location data. Some don't even make sense like \"everywhere\"."
   ]
  },
  {
   "cell_type": "markdown",
   "metadata": {
    "id": "gflBOW8YNEI6"
   },
   "source": [
    "### Distribution of keywords"
   ]
  },
  {
   "cell_type": "code",
   "execution_count": null,
   "metadata": {
    "id": "a2wNzyjiNEI6",
    "outputId": "ca59b4de-404d-4b0a-a536-78480fc40e92"
   },
   "outputs": [
    {
     "data": {
      "text/plain": [
       "count           7552\n",
       "unique           221\n",
       "top       fatalities\n",
       "freq              45\n",
       "Name: keyword, dtype: object"
      ]
     },
     "execution_count": 10,
     "metadata": {},
     "output_type": "execute_result"
    }
   ],
   "source": [
    "train_df[\"keyword\"].describe()"
   ]
  },
  {
   "cell_type": "code",
   "execution_count": null,
   "metadata": {
    "id": "1eQ5uGSmNEI6",
    "outputId": "eebe6daa-3c6f-4aa5-afbd-868a85788b2d"
   },
   "outputs": [
    {
     "data": {
      "text/plain": [
       "fatalities               45\n",
       "deluge                   42\n",
       "armageddon               42\n",
       "sinking                  41\n",
       "damage                   41\n",
       "                         ..\n",
       "forest%20fire            19\n",
       "epicentre                12\n",
       "threat                   11\n",
       "inundation               10\n",
       "radiation%20emergency     9\n",
       "Name: keyword, Length: 221, dtype: int64"
      ]
     },
     "execution_count": 11,
     "metadata": {},
     "output_type": "execute_result"
    }
   ],
   "source": [
    "train_df[\"keyword\"].value_counts()"
   ]
  },
  {
   "cell_type": "code",
   "execution_count": null,
   "metadata": {
    "id": "JxsQvVzaNEI7",
    "outputId": "946f5827-3a13-4c63-ad7b-4d1a888ff3af"
   },
   "outputs": [
    {
     "data": {
      "text/plain": [
       "<AxesSubplot:>"
      ]
     },
     "execution_count": 12,
     "metadata": {},
     "output_type": "execute_result"
    },
    {
     "data": {
      "image/png": "[encoded data removed]",
      "text/plain": [
       "<Figure size 640x480 with 1 Axes>"
      ]
     },
     "metadata": {},
     "output_type": "display_data"
    }
   ],
   "source": [
    "# plot the distribution of the keyword for the 10 most common keywords in percentage\n",
    "train_df[\"keyword\"].value_counts().head(20).plot(kind=\"barh\")"
   ]
  },
  {
   "cell_type": "code",
   "execution_count": null,
   "metadata": {
    "id": "SZlItaDwNEI7",
    "outputId": "1270ac05-d604-4710-bf55-e62b180fc979"
   },
   "outputs": [
    {
     "data": {
      "text/plain": [
       "([], [])"
      ]
     },
     "execution_count": 13,
     "metadata": {},
     "output_type": "execute_result"
    },
    {
     "data": {
      "image/png": "[encoded data removed]",
      "text/plain": [
       "<Figure size 640x480 with 1 Axes>"
      ]
     },
     "metadata": {},
     "output_type": "display_data"
    }
   ],
   "source": [
    "# plot the distribution of the location for the 10 most common keywords in percentage without x ticks\n",
    "train_df[\"keyword\"].value_counts().plot(kind=\"bar\")\n",
    "plt.xticks([])"
   ]
  },
  {
   "cell_type": "markdown",
   "metadata": {
    "id": "7wclpgvnNEI8"
   },
   "source": [
    "This feature is probably very important and is to be kept but at the same time there are a lot of different values"
   ]
  },
  {
   "cell_type": "markdown",
   "metadata": {
    "id": "AJ5ETE-jNEI8"
   },
   "source": [
    "### Exploration of target"
   ]
  },
  {
   "cell_type": "code",
   "execution_count": null,
   "metadata": {
    "id": "D-G43o3BNEI8",
    "outputId": "67b94975-ce76-4c86-fc33-afa70fbda823"
   },
   "outputs": [
    {
     "data": {
      "text/plain": [
       "count    7613.00000\n",
       "mean        0.42966\n",
       "std         0.49506\n",
       "min         0.00000\n",
       "25%         0.00000\n",
       "50%         0.00000\n",
       "75%         1.00000\n",
       "max         1.00000\n",
       "Name: target, dtype: float64"
      ]
     },
     "execution_count": 14,
     "metadata": {},
     "output_type": "execute_result"
    }
   ],
   "source": [
    "train_df[\"target\"].describe()"
   ]
  },
  {
   "cell_type": "code",
   "execution_count": 8,
   "metadata": {
    "id": "wgJIfC33NEI9",
    "outputId": "8326b035-438f-4705-f4d5-bfdd088e8311"
   },
   "outputs": [
    {
     "data": {
      "text/plain": "Text(0.5, 1.0, 'Distribution of labels for full train dataset')"
     },
     "execution_count": 8,
     "metadata": {},
     "output_type": "execute_result"
    },
    {
     "data": {
      "text/plain": "<Figure size 640x480 with 1 Axes>",
      "image/png": "[encoded data removed]"
     },
     "metadata": {},
     "output_type": "display_data"
    }
   ],
   "source": [
    "train_df[\"target\"].value_counts(normalize=True).plot(kind=\"bar\")\n",
    "plt.xticks([0, 1], ['not disaster', 'disaster'], rotation=0)\n",
    "plt.title(\"Distribution of labels for full train dataset\")"
   ]
  },
  {
   "cell_type": "markdown",
   "metadata": {
    "id": "sVlzUQ7gNEI9"
   },
   "source": [
    "### Exploration of tweets"
   ]
  },
  {
   "cell_type": "code",
   "execution_count": null,
   "metadata": {
    "id": "FlpYqSYzNEI-",
    "outputId": "a5569d28-7ec1-47e9-8bab-acafe73835a3"
   },
   "outputs": [
    {
     "data": {
      "text/plain": [
       "count                                                  7613\n",
       "unique                                                 7503\n",
       "top       11-Year-Old Boy Charged With Manslaughter of T...\n",
       "freq                                                     10\n",
       "Name: text, dtype: object"
      ]
     },
     "execution_count": 16,
     "metadata": {},
     "output_type": "execute_result"
    }
   ],
   "source": [
    "train_df['text'].describe()"
   ]
  },
  {
   "cell_type": "code",
   "execution_count": null,
   "metadata": {
    "id": "0Rdm4Hy9NEI-",
    "outputId": "5740e132-9bfe-476a-bbc5-af6a6fccfc2a"
   },
   "outputs": [
    {
     "name": "stdout",
     "output_type": "stream",
     "text": [
      "Our Deeds are the Reason of this #earthquake May ALLAH Forgive us all 69\n",
      "Forest fire near La Ronge Sask. Canada 38\n",
      "All residents asked to 'shelter in place' are being notified by officers. No other evacuation or shelter in place orders are expected 133\n",
      "13,000 people receive #wildfires evacuation orders in California  65\n",
      "Just got sent this photo from Ruby #Alaska as smoke from #wildfires pours into a school  88\n",
      "#RockyFire Update => California Hwy. 20 closed in both directions due to Lake County fire - #CAfire #wildfires 110\n",
      "#flood #disaster Heavy rain causes flash flooding of streets in Manitou, Colorado Springs areas 95\n",
      "I'm on top of the hill and I can see a fire in the woods... 59\n",
      "There's an emergency evacuation happening now in the building across the street 79\n",
      "I'm afraid that the tornado is coming to our area... 52\n",
      "Three people died from the heat wave so far 43\n",
      "Haha South Tampa is getting flooded hah- WAIT A SECOND I LIVE IN SOUTH TAMPA WHAT AM I GONNA DO WHAT AM I GONNA DO FVCK #flooding 129\n",
      "#raining #flooding #Florida #TampaBay #Tampa 18 or 19 days. I've lost count  76\n",
      "#Flood in Bago Myanmar #We arrived Bago 39\n",
      "Damage to school bus on 80 in multi car crash #BREAKING  56\n",
      "What's up man? 14\n",
      "I love fruits 13\n",
      "Summer is lovely 16\n",
      "My car is so fast 17\n",
      "What a goooooooaaaaaal!!!!!! 28\n"
     ]
    }
   ],
   "source": [
    "for text in train_df['text'].head(20):\n",
    "    print(text, len(text))"
   ]
  },
  {
   "cell_type": "code",
   "execution_count": null,
   "metadata": {
    "id": "QqKbYy3wNEI_",
    "outputId": "42d537cb-691d-4891-e555-6a03b7738150"
   },
   "outputs": [
    {
     "data": {
      "text/plain": [
       "Text(0.5, 0, 'Length of the text')"
      ]
     },
     "execution_count": 18,
     "metadata": {},
     "output_type": "execute_result"
    },
    {
     "data": {
      "image/png": "[encoded data removed]",
      "text/plain": [
       "<Figure size 640x480 with 1 Axes>"
      ]
     },
     "metadata": {},
     "output_type": "display_data"
    }
   ],
   "source": [
    "# plot the distribution of the length of the text\n",
    "train_df['text'].str.len().plot(kind=\"hist\", bins=20)\n",
    "plt.xlabel(\"Length of the text\")\n"
   ]
  },
  {
   "cell_type": "code",
   "execution_count": null,
   "metadata": {
    "id": "JAbRTDWKNEI_",
    "outputId": "2a956fe2-fbfc-4e39-a4e7-3b640938fe97"
   },
   "outputs": [
    {
     "data": {
      "text/plain": [
       "Text(0.5, 0, 'Length of the text')"
      ]
     },
     "execution_count": 19,
     "metadata": {},
     "output_type": "execute_result"
    },
    {
     "data": {
      "image/png": "[encoded data removed]",
      "text/plain": [
       "<Figure size 640x480 with 1 Axes>"
      ]
     },
     "metadata": {},
     "output_type": "display_data"
    }
   ],
   "source": [
    "# plot the distribution of the length of the text for the two classes\n",
    "train_df['text'].str.len().plot(kind=\"hist\", bins=20, alpha=0.5, label=\"All\")\n",
    "train_df[train_df['target'] == 1]['text'].str.len().plot(kind=\"hist\", bins=20, alpha=0.5, label=\"Disaster\")\n",
    "plt.xlabel(\"Length of the text\")"
   ]
  },
  {
   "cell_type": "code",
   "execution_count": null,
   "metadata": {
    "id": "UgjbMukkNEJA",
    "outputId": "5f80933f-d87c-4b38-d433-8af5effb3d87"
   },
   "outputs": [
    {
     "data": {
      "text/plain": [
       "[Text(0, 0, 'Not Disaster'), Text(1, 0, 'Disaster')]"
      ]
     },
     "execution_count": 20,
     "metadata": {},
     "output_type": "execute_result"
    },
    {
     "data": {
      "image/png": "[encoded data removed]",
      "text/plain": [
       "<Figure size 1200x400 with 2 Axes>"
      ]
     },
     "metadata": {},
     "output_type": "display_data"
    }
   ],
   "source": [
    "# plot the distribution of the length of the text for the two classes with violin and boxplot\n",
    "fig, ax = plt.subplots(1, 2, figsize=(12, 4))\n",
    "plt.suptitle(\"Distribution of the length of the text for the two classes\")\n",
    "sns.violinplot(x=train_df['target'], y=train_df['text'].str.len(), ax=ax[0])\n",
    "sns.boxplot(x=train_df['target'], y=train_df['text'].str.len(), ax=ax[1])\n",
    "ax[0].set_xticklabels(['Not Disaster', 'Disaster'])\n",
    "ax[1].set_xticklabels(['Not Disaster', 'Disaster'])"
   ]
  },
  {
   "cell_type": "markdown",
   "metadata": {
    "id": "N1KjLuTYNEJA"
   },
   "source": [
    "<a id=\"10\"></a>\n",
    "## Data Pre-processing "
   ]
  },
  {
   "cell_type": "markdown",
   "metadata": {
    "id": "b83nqo9xNEJA"
   },
   "source": [
    "### Non alpha-numeric values"
   ]
  },
  {
   "cell_type": "markdown",
   "metadata": {
    "id": "6YYf0LxgNEJB"
   },
   "source": [
    "We see the distribution is not the same, not disatrous tweets are more likely to be less than 70 (label 0)"
   ]
  },
  {
   "cell_type": "code",
   "execution_count": null,
   "metadata": {
    "id": "7sKsZKUINEJB",
    "outputId": "d311886c-bd9b-4be8-8174-a816ae665912"
   },
   "outputs": [
    {
     "data": {
      "text/plain": [
       "0                       [#]\n",
       "1                       [.]\n",
       "2                 [', ', .]\n",
       "3                    [,, #]\n",
       "4                    [#, #]\n",
       "5     [#, =, >, ., -, #, #]\n",
       "6                 [#, #, ,]\n",
       "7              [', ., ., .]\n",
       "8                       [']\n",
       "9              [', ., ., .]\n",
       "10                       []\n",
       "11                   [-, #]\n",
       "12    [#, #, #, #, #, ., ']\n",
       "13                   [#, #]\n",
       "14                      [#]\n",
       "15                   [', ?]\n",
       "16                       []\n",
       "17                       []\n",
       "18                       []\n",
       "19       [!, !, !, !, !, !]\n",
       "Name: text, dtype: object"
      ]
     },
     "execution_count": 21,
     "metadata": {},
     "output_type": "execute_result"
    }
   ],
   "source": [
    "# Find all the non alphanumeric characters in the text\n",
    "import re\n",
    "def find_non_alphanumeric(text):\n",
    "    return re.findall(r\"[^a-zA-Z0-9 ]\", text)\n",
    "\n",
    "# Find all the non alphanumeric characters in the text\n",
    "train_df['text'].apply(find_non_alphanumeric).head(20)"
   ]
  },
  {
   "cell_type": "code",
   "execution_count": null,
   "metadata": {
    "id": "cxOTwkaqNEJC",
    "outputId": "d8fc557a-6da6-4c38-f76f-34612d3eb5e8"
   },
   "outputs": [
    {
     "data": {
      "text/plain": [
       "{'\\n',\n",
       " '\\r',\n",
       " '!',\n",
       " '#',\n",
       " '$',\n",
       " '%',\n",
       " '&',\n",
       " \"'\",\n",
       " '(',\n",
       " ')',\n",
       " '*',\n",
       " '+',\n",
       " ',',\n",
       " '-',\n",
       " '.',\n",
       " '/',\n",
       " ':',\n",
       " ';',\n",
       " '=',\n",
       " '>',\n",
       " '?',\n",
       " '@',\n",
       " '[',\n",
       " '\\\\',\n",
       " ']',\n",
       " '^',\n",
       " '_',\n",
       " '`',\n",
       " '{',\n",
       " '|',\n",
       " '}',\n",
       " '~',\n",
       " '\\x89',\n",
       " '\\x9d',\n",
       " '¡',\n",
       " '¢',\n",
       " '£',\n",
       " '¤',\n",
       " '¨',\n",
       " '©',\n",
       " 'ª',\n",
       " '«',\n",
       " '¬',\n",
       " '´',\n",
       " '¼',\n",
       " 'Â',\n",
       " 'Ç',\n",
       " 'È',\n",
       " 'Ê',\n",
       " 'Ì',\n",
       " 'Ï',\n",
       " 'Ñ',\n",
       " 'Ò',\n",
       " 'Ó',\n",
       " 'Û',\n",
       " 'â',\n",
       " 'ã',\n",
       " 'å',\n",
       " '÷',\n",
       " 'ü'}"
      ]
     },
     "execution_count": 22,
     "metadata": {},
     "output_type": "execute_result"
    }
   ],
   "source": [
    "# Make a set out of all non alphanumeric characters in the text\n",
    "non_alphanumeric_characters = set()\n",
    "for text in train_df['text']:\n",
    "    non_alphanumeric_characters.update(find_non_alphanumeric(text))\n",
    "non_alphanumeric_characters\n"
   ]
  },
  {
   "cell_type": "code",
   "execution_count": null,
   "metadata": {
    "id": "fzjlyntZNEJC",
    "outputId": "2928d13b-20b4-42f6-e31d-7686c61b7135"
   },
   "outputs": [
    {
     "name": "stdout",
     "output_type": "stream",
     "text": [
      "Number of different non Alpha-numeric characters : 60\n"
     ]
    }
   ],
   "source": [
    "print(f\"Number of different non Alpha-numeric characters : {len(non_alphanumeric_characters)}\")"
   ]
  },
  {
   "cell_type": "markdown",
   "metadata": {
    "id": "LEuEl--SNEJC"
   },
   "source": [
    "There are 60 different types of non alpha numeric characters"
   ]
  },
  {
   "cell_type": "code",
   "execution_count": null,
   "metadata": {
    "id": "tq8ZtlAINEJD",
    "outputId": "5ad4deac-1845-4ace-e729-5ec82fd7bd5d"
   },
   "outputs": [
    {
     "data": {
      "text/plain": [
       "Text(0.5, 0, 'Number of occurence')"
      ]
     },
     "execution_count": 24,
     "metadata": {},
     "output_type": "execute_result"
    },
    {
     "name": "stderr",
     "output_type": "stream",
     "text": [
      ") missing from current font./nlp/lib/python3.8/site-packages/IPython/core/events.py:89: UserWarning: Glyph 13 (\n",
      "  func(*args, **kwargs)\n",
      "/home/romain/miniconda3/envs/nlp/lib/python3.8/site-packages/IPython/core/events.py:89: UserWarning: Glyph 137 (\\x89) missing from current font.\n",
      "  func(*args, **kwargs)\n",
      ") missing from current font./nlp/lib/python3.8/site-packages/IPython/core/pylabtools.py:152: UserWarning: Glyph 13 (\n",
      "  fig.canvas.print_figure(bytes_io, **kw)\n",
      "/home/romain/miniconda3/envs/nlp/lib/python3.8/site-packages/IPython/core/pylabtools.py:152: UserWarning: Glyph 137 (\\x89) missing from current font.\n",
      "  fig.canvas.print_figure(bytes_io, **kw)\n"
     ]
    },
    {
     "data": {
      "image/png": "[encoded data removed]",
      "text/plain": [
       "<Figure size 640x480 with 1 Axes>"
      ]
     },
     "metadata": {},
     "output_type": "display_data"
    }
   ],
   "source": [
    "# plot the number of occurence of the top 20 most common non alphanumeric characters\n",
    "train_df['text'].apply(find_non_alphanumeric).explode().value_counts().head(20).plot(kind=\"barh\")\n",
    "plt.title(\"Top 20 most common non alphanumeric characters\")\n",
    "plt.xlabel(\"Number of occurence\")"
   ]
  },
  {
   "cell_type": "markdown",
   "metadata": {
    "id": "xEj25WT4NEJD"
   },
   "source": [
    "Most of the characters are not too concerning. Only \"/\", \"#\" and \"@\" would benefit from further investigation."
   ]
  },
  {
   "cell_type": "code",
   "execution_count": null,
   "metadata": {
    "id": "cuhGyW_gNEJD",
    "outputId": "acabad9c-2b2e-49dd-abfe-5fa72a749770"
   },
   "outputs": [
    {
     "data": {
      "text/plain": [
       "31     @bbcmtd Wholesale Markets ablaze http://t.co/l...\n",
       "36     @PhDSquares #mufc they've built so much hype a...\n",
       "43          SOOOO PUMPED FOR ABLAZE ???? @southridgelife\n",
       "54     Noches El-Bestia '@Alexis_Sanchez: happy to se...\n",
       "57     Set our hearts ablaze and every city was a gif...\n",
       "63     @Navista7 Steve these fires out here are somet...\n",
       "65     @nxwestmidlands huge fire at Wholesale markets...\n",
       "66     @ablaze what time does your talk go until? I d...\n",
       "75     RT @SleepJunkies: Sleeping pills double your r...\n",
       "92     8/6/2015@2:09 PM: TRAFFIC ACCIDENT NO INJURY a...\n",
       "97     #BREAKING: there was a deadly motorcycle car a...\n",
       "98     @flowri were you marinading it or was it an ac...\n",
       "100    .@NorwayMFA #Bahrain police had previously die...\n",
       "102    @afterShock_DeLo scuf ps live and the game... cya\n",
       "104    320 [IR] ICEMOON [AFTERSHOCK] | http://t.co/yN...\n",
       "106    320 [IR] ICEMOON [AFTERSHOCK] | http://t.co/vA...\n",
       "108    @afterShock_DeLo im speaking from someone that...\n",
       "114    320 [IR] ICEMOON [AFTERSHOCK] | http://t.co/M4...\n",
       "115    320 [IR] ICEMOON [AFTERSHOCK] | http://t.co/vA...\n",
       "116    320 [IR] ICEMOON [AFTERSHOCK] | http://t.co/e1...\n",
       "Name: text, dtype: object"
      ]
     },
     "execution_count": 25,
     "metadata": {},
     "output_type": "execute_result"
    }
   ],
   "source": [
    "# plot 20 tweets with the character \"@\" in the text\n",
    "train_df[train_df['text'].str.contains(\"@\")]['text'].head(20)"
   ]
  },
  {
   "cell_type": "markdown",
   "metadata": {
    "id": "l0fhiikyNEJD"
   },
   "source": [
    "The '@' character is mostly used in mentions, we should remove all mentions as they are not useful. The character is also used for dates which can be stripped too."
   ]
  },
  {
   "cell_type": "code",
   "execution_count": null,
   "metadata": {
    "id": "aqjbPB2ANEJE",
    "outputId": "e29b91e7-52d6-4ae8-9327-f958f6d7778f"
   },
   "outputs": [
    {
     "data": {
      "text/plain": [
       "31    @bbcmtd Wholesale Markets ablaze http://t.co/l...\n",
       "32    We always try to bring the heavy. #metal #RT h...\n",
       "33    #AFRICANBAZE: Breaking news:Nigeria flag set a...\n",
       "35    On plus side LOOK AT THE SKY LAST NIGHT IT WAS...\n",
       "37    INEC Office in Abia Set Ablaze - http://t.co/3...\n",
       "38    Barbados #Bridgetown JAMAICA ÛÒ Two cars set ...\n",
       "40    Check these out: http://t.co/rOI2NSmEJJ http:/...\n",
       "44    I wanted to set Chicago ablaze with my preachi...\n",
       "45    I gained 3 followers in the last week. You? Kn...\n",
       "46    How the West was burned: Thousands of wildfire...\n",
       "48    Check these out: http://t.co/rOI2NSmEJJ http:/...\n",
       "50    Deputies: Man shot before Brighton home set ab...\n",
       "51    Man wife get six years jail for setting ablaze...\n",
       "52    SANTA CRUZ ÛÓ Head of the St Elizabeth Police...\n",
       "53    Police: Arsonist Deliberately Set Black Church...\n",
       "54    Noches El-Bestia '@Alexis_Sanchez: happy to se...\n",
       "55    #Kurds trampling on Turkmen flag later set it ...\n",
       "56    TRUCK ABLAZE : R21. VOORTREKKER AVE. OUTSIDE O...\n",
       "57    Set our hearts ablaze and every city was a gif...\n",
       "59    How the West was burned: Thousands of wildfire...\n",
       "Name: text, dtype: object"
      ]
     },
     "execution_count": 26,
     "metadata": {},
     "output_type": "execute_result"
    }
   ],
   "source": [
    "# plot 20 tweets with the character \"/ in the text\n",
    "train_df[train_df['text'].str.contains(\"/\")]['text'].head(20)"
   ]
  },
  {
   "cell_type": "markdown",
   "metadata": {
    "id": "uEFCd2-rNEJE"
   },
   "source": [
    "The \"/\" character is mainly used in urls, which can be stripped from the tweets as well."
   ]
  },
  {
   "cell_type": "markdown",
   "metadata": {
    "id": "aoOyDrxCNEJE"
   },
   "source": [
    "Summary of the necessary data preprocessing step :\n",
    "\n",
    "* Remove all mentions\n",
    "* Remove all dates\n",
    "* Remove all URLs"
   ]
  },
  {
   "cell_type": "markdown",
   "source": [
    "### Preprocessing using hand made functions"
   ],
   "metadata": {
    "id": "rq4Oo0gWYfNA"
   }
  },
  {
   "cell_type": "code",
   "source": [
    "import html\n",
    "import re\n",
    "\n",
    "# define clean function\n",
    "# add / remove any line if necessary\n",
    "def clean(text):\n",
    "    # convert html escapes like &amp; by their plain-text representation\n",
    "    text = html.unescape(text) \n",
    "    \n",
    "    # subsitute tags like <tab> by spaces in the specified text or remove them\n",
    "    text = re.sub(r'<[^<>]*>', ' ', text)\n",
    "    \n",
    "    # subsitute markdown URLs like [Some text](https://....)\n",
    "    text = re.sub(r'\\[([^\\[\\]]*)\\]\\([^\\(\\)]*\\)', r'\\1', text)\n",
    "    \n",
    "    # subsitute text or code in brackets like [0]\n",
    "    text = re.sub(r'\\[[^\\[\\]]*\\]', ' ', text)\n",
    "    \n",
    "    # subsitute standalone sequences of specials, matches &# but NOT #hashtag\n",
    "    text = re.sub(r'(?:^|\\s)[&#<>{}\\[\\]+|\\\\:-]{1,}(?:\\s|$)', ' ', text)\n",
    "\n",
    "     # subsitute standalone sequences of hyphens like --- or ==\n",
    "    text = re.sub(r'(?:^|\\s)[\\-=\\+]{2,}(?:\\s|$)', ' ', text)\n",
    "    \n",
    "    # sequences of white spaces\n",
    "    text = re.sub(r'\\s+', ' ', text)\n",
    "    \n",
    "    #remove stock market tickers like $GE\n",
    "    text = re.sub(r'\\$\\w*', '', text)  \n",
    "    \n",
    "    #remove old style retweet text \"RT\"\n",
    "    text = re.sub(r'RT[\\s]+', '', text)        \n",
    "    text = re.sub(r'DT[\\s]+', '', text)   \n",
    "    \n",
    "    #remove hashtags\n",
    "    text = re.sub(r'#', '', text)\n",
    "    \n",
    "    return text.strip()"
   ],
   "metadata": {
    "id": "iWPlq_LyN-jF",
    "executionInfo": {
     "status": "ok",
     "timestamp": 1669522105530,
     "user_tz": 300,
     "elapsed": 158,
     "user": {
      "displayName": "Romain Bazin",
      "userId": "09336063328901162165"
     }
    }
   },
   "execution_count": 10,
   "outputs": []
  },
  {
   "cell_type": "code",
   "source": [
    "from textacy import preprocessing\n",
    "from functools import partial\n",
    "\n",
    "# create cleaning pipeline\n",
    "preproc = preprocessing.make_pipeline(\n",
    "    \n",
    "    # join words split by a hyphen or line break\n",
    "    preprocessing.normalize.hyphenated_words,\n",
    "    \n",
    "    # subsitute fancy quatation marks with an ASCII equivalent\n",
    "    preprocessing.normalize.quotation_marks,\n",
    "    \n",
    "    # normalize unicode characters in text into canonical forms\n",
    "    preprocessing.normalize.unicode,\n",
    "    \n",
    "    # remove any accents character in text by replacing them with ASCII equivalents or removing them entirely\n",
    "    preprocessing.remove.accents,\n",
    "\n",
    "    # remove all email addresses in text \n",
    "    partial(preprocessing.replace.emails, repl= \"\"), # or _EMAIL_\n",
    "    \n",
    "    # remove all phone numbers in text \n",
    "    partial(preprocessing.replace.phone_numbers, repl=\"\"), # or _PhoneNumber_\n",
    "    \n",
    "    # remove all URLs in text \n",
    "    partial(preprocessing.replace.urls, repl= \"\"), # or _URL_\n",
    "    \n",
    "    # remove all (Twitter-style) user handles in text \n",
    "    partial(preprocessing.replace.user_handles, repl=\"\"), # or _HANDLE_\n",
    "    \n",
    "    # Replace all hashtags in text with repl.\n",
    "    #partial(preprocessing.replace.hashtags, repl=\"_HASTAG_\"),\n",
    "    \n",
    "    ### TEST ### Enable it only before generating tokens for word clouds\n",
    "    partial(preprocessing.replace.numbers, repl=\"\"),\n",
    "    \n",
    "    # remove HTML tags from text\n",
    "    preprocessing.remove.html_tags,\n",
    "\n",
    "    # remove text within curly {}, square [], and/or round () brackets\n",
    "    preprocessing.remove.brackets,\n",
    "\n",
    "    # replace specific set of punctuation marks with whitespace\n",
    "    partial(preprocessing.remove.punctuation, only=[ \",\", \":\", \";\", \"/\", \" \",\"(\",\"@\"]),\n",
    "    \n",
    "    # Replace all currency symbols in text with repl\n",
    "    preprocessing.replace.currency_symbols,\n",
    "    \n",
    "    # replace all emoji and pictographs in text with repl.\n",
    "    preprocessing.replace.emojis,\n",
    "    \n",
    " )"
   ],
   "metadata": {
    "id": "yAr6yu0zQiHh",
    "executionInfo": {
     "status": "ok",
     "timestamp": 1669522120186,
     "user_tz": 300,
     "elapsed": 130,
     "user": {
      "displayName": "Romain Bazin",
      "userId": "09336063328901162165"
     }
    }
   },
   "execution_count": 12,
   "outputs": []
  },
  {
   "cell_type": "code",
   "source": [
    "train_df['text_c'] = train_df['text'].apply(clean)\n",
    "train_df['text_clean'] = train_df['text_c'].apply(preproc)\n",
    "train_df.head()"
   ],
   "metadata": {
    "colab": {
     "base_uri": "https://localhost:8080/",
     "height": 206
    },
    "id": "RWLi39qaQ9-l",
    "executionInfo": {
     "status": "ok",
     "timestamp": 1669523417135,
     "user_tz": 300,
     "elapsed": 3025,
     "user": {
      "displayName": "Romain Bazin",
      "userId": "09336063328901162165"
     }
    },
    "outputId": "20f12105-a1cb-4642-dfd6-b0f001a3839b"
   },
   "execution_count": 16,
   "outputs": [
    {
     "output_type": "execute_result",
     "data": {
      "text/plain": [
       "   id keyword location                                               text  \\\n",
       "0   1     NaN      NaN  Our Deeds are the Reason of this #earthquake M...   \n",
       "1   4     NaN      NaN             Forest fire near La Ronge Sask. Canada   \n",
       "2   5     NaN      NaN  All residents asked to 'shelter in place' are ...   \n",
       "3   6     NaN      NaN  13,000 people receive #wildfires evacuation or...   \n",
       "4   7     NaN      NaN  Just got sent this photo from Ruby #Alaska as ...   \n",
       "\n",
       "   target                                             text_c  \\\n",
       "0       1  Our Deeds are the Reason of this earthquake Ma...   \n",
       "1       1             Forest fire near La Ronge Sask. Canada   \n",
       "2       1  All residents asked to 'shelter in place' are ...   \n",
       "3       1  13,000 people receive wildfires evacuation ord...   \n",
       "4       1  Just got sent this photo from Ruby Alaska as s...   \n",
       "\n",
       "                                          text_clean  \n",
       "0  Our Deeds are the Reason of this earthquake Ma...  \n",
       "1             Forest fire near La Ronge Sask. Canada  \n",
       "2  All residents asked to 'shelter in place' are ...  \n",
       "3  people receive wildfires evacuation orders in ...  \n",
       "4  Just got sent this photo from Ruby Alaska as s...  "
      ],
      "text/html": [
       "\n",
       "  <div id=\"df-2a004c8a-a5c4-4c10-bbf1-33825dd5c3cd\">\n",
       "    <div class=\"colab-df-container\">\n",
       "      <div>\n",
       "<style scoped>\n",
       "    .dataframe tbody tr th:only-of-type {\n",
       "        vertical-align: middle;\n",
       "    }\n",
       "\n",
       "    .dataframe tbody tr th {\n",
       "        vertical-align: top;\n",
       "    }\n",
       "\n",
       "    .dataframe thead th {\n",
       "        text-align: right;\n",
       "    }\n",
       "</style>\n",
       "<table border=\"1\" class=\"dataframe\">\n",
       "  <thead>\n",
       "    <tr style=\"text-align: right;\">\n",
       "      <th></th>\n",
       "      <th>id</th>\n",
       "      <th>keyword</th>\n",
       "      <th>location</th>\n",
       "      <th>text</th>\n",
       "      <th>target</th>\n",
       "      <th>text_c</th>\n",
       "      <th>text_clean</th>\n",
       "    </tr>\n",
       "  </thead>\n",
       "  <tbody>\n",
       "    <tr>\n",
       "      <th>0</th>\n",
       "      <td>1</td>\n",
       "      <td>NaN</td>\n",
       "      <td>NaN</td>\n",
       "      <td>Our Deeds are the Reason of this #earthquake M...</td>\n",
       "      <td>1</td>\n",
       "      <td>Our Deeds are the Reason of this earthquake Ma...</td>\n",
       "      <td>Our Deeds are the Reason of this earthquake Ma...</td>\n",
       "    </tr>\n",
       "    <tr>\n",
       "      <th>1</th>\n",
       "      <td>4</td>\n",
       "      <td>NaN</td>\n",
       "      <td>NaN</td>\n",
       "      <td>Forest fire near La Ronge Sask. Canada</td>\n",
       "      <td>1</td>\n",
       "      <td>Forest fire near La Ronge Sask. Canada</td>\n",
       "      <td>Forest fire near La Ronge Sask. Canada</td>\n",
       "    </tr>\n",
       "    <tr>\n",
       "      <th>2</th>\n",
       "      <td>5</td>\n",
       "      <td>NaN</td>\n",
       "      <td>NaN</td>\n",
       "      <td>All residents asked to 'shelter in place' are ...</td>\n",
       "      <td>1</td>\n",
       "      <td>All residents asked to 'shelter in place' are ...</td>\n",
       "      <td>All residents asked to 'shelter in place' are ...</td>\n",
       "    </tr>\n",
       "    <tr>\n",
       "      <th>3</th>\n",
       "      <td>6</td>\n",
       "      <td>NaN</td>\n",
       "      <td>NaN</td>\n",
       "      <td>13,000 people receive #wildfires evacuation or...</td>\n",
       "      <td>1</td>\n",
       "      <td>13,000 people receive wildfires evacuation ord...</td>\n",
       "      <td>people receive wildfires evacuation orders in ...</td>\n",
       "    </tr>\n",
       "    <tr>\n",
       "      <th>4</th>\n",
       "      <td>7</td>\n",
       "      <td>NaN</td>\n",
       "      <td>NaN</td>\n",
       "      <td>Just got sent this photo from Ruby #Alaska as ...</td>\n",
       "      <td>1</td>\n",
       "      <td>Just got sent this photo from Ruby Alaska as s...</td>\n",
       "      <td>Just got sent this photo from Ruby Alaska as s...</td>\n",
       "    </tr>\n",
       "  </tbody>\n",
       "</table>\n",
       "</div>\n",
       "      <button class=\"colab-df-convert\" onclick=\"convertToInteractive('df-2a004c8a-a5c4-4c10-bbf1-33825dd5c3cd')\"\n",
       "              title=\"Convert this dataframe to an interactive table.\"\n",
       "              style=\"display:none;\">\n",
       "        \n",
       "  <svg xmlns=\"http://www.w3.org/2000/svg\" height=\"24px\"viewBox=\"0 0 24 24\"\n",
       "       width=\"24px\">\n",
       "    <path d=\"M0 0h24v24H0V0z\" fill=\"none\"/>\n",
       "    <path d=\"M18.56 5.44l.94 2.06.94-2.06 2.06-.94-2.06-.94-.94-2.06-.94 2.06-2.06.94zm-11 1L8.5 8.5l.94-2.06 2.06-.94-2.06-.94L8.5 2.5l-.94 2.06-2.06.94zm10 10l.94 2.06.94-2.06 2.06-.94-2.06-.94-.94-2.06-.94 2.06-2.06.94z\"/><path d=\"M17.41 7.96l-1.37-1.37c-.4-.4-.92-.59-1.43-.59-.52 0-1.04.2-1.43.59L10.3 9.45l-7.72 7.72c-.78.78-.78 2.05 0 2.83L4 21.41c.39.39.9.59 1.41.59.51 0 1.02-.2 1.41-.59l7.78-7.78 2.81-2.81c.8-.78.8-2.07 0-2.86zM5.41 20L4 18.59l7.72-7.72 1.47 1.35L5.41 20z\"/>\n",
       "  </svg>\n",
       "      </button>\n",
       "      \n",
       "  <style>\n",
       "    .colab-df-container {\n",
       "      display:flex;\n",
       "      flex-wrap:wrap;\n",
       "      gap: 12px;\n",
       "    }\n",
       "\n",
       "    .colab-df-convert {\n",
       "      background-color: #E8F0FE;\n",
       "      border: none;\n",
       "      border-radius: 50%;\n",
       "      cursor: pointer;\n",
       "      display: none;\n",
       "      fill: #1967D2;\n",
       "      height: 32px;\n",
       "      padding: 0 0 0 0;\n",
       "      width: 32px;\n",
       "    }\n",
       "\n",
       "    .colab-df-convert:hover {\n",
       "      background-color: #E2EBFA;\n",
       "      box-shadow: 0px 1px 2px rgba(60, 64, 67, 0.3), 0px 1px 3px 1px rgba(60, 64, 67, 0.15);\n",
       "      fill: #174EA6;\n",
       "    }\n",
       "\n",
       "    [theme=dark] .colab-df-convert {\n",
       "      background-color: #3B4455;\n",
       "      fill: #D2E3FC;\n",
       "    }\n",
       "\n",
       "    [theme=dark] .colab-df-convert:hover {\n",
       "      background-color: #434B5C;\n",
       "      box-shadow: 0px 1px 3px 1px rgba(0, 0, 0, 0.15);\n",
       "      filter: drop-shadow(0px 1px 2px rgba(0, 0, 0, 0.3));\n",
       "      fill: #FFFFFF;\n",
       "    }\n",
       "  </style>\n",
       "\n",
       "      <script>\n",
       "        const buttonEl =\n",
       "          document.querySelector('#df-2a004c8a-a5c4-4c10-bbf1-33825dd5c3cd button.colab-df-convert');\n",
       "        buttonEl.style.display =\n",
       "          google.colab.kernel.accessAllowed ? 'block' : 'none';\n",
       "\n",
       "        async function convertToInteractive(key) {\n",
       "          const element = document.querySelector('#df-2a004c8a-a5c4-4c10-bbf1-33825dd5c3cd');\n",
       "          const dataTable =\n",
       "            await google.colab.kernel.invokeFunction('convertToInteractive',\n",
       "                                                     [key], {});\n",
       "          if (!dataTable) return;\n",
       "\n",
       "          const docLinkHtml = 'Like what you see? Visit the ' +\n",
       "            '<a target=\"_blank\" href=https://colab.research.google.com/notebooks/data_table.ipynb>data table notebook</a>'\n",
       "            + ' to learn more about interactive tables.';\n",
       "          element.innerHTML = '';\n",
       "          dataTable['output_type'] = 'display_data';\n",
       "          await google.colab.output.renderOutput(dataTable, element);\n",
       "          const docLink = document.createElement('div');\n",
       "          docLink.innerHTML = docLinkHtml;\n",
       "          element.appendChild(docLink);\n",
       "        }\n",
       "      </script>\n",
       "    </div>\n",
       "  </div>\n",
       "  "
      ]
     },
     "metadata": {},
     "execution_count": 16
    }
   ]
  },
  {
   "cell_type": "markdown",
   "source": [
    "### Preprocessing using tweet-preprocessor"
   ],
   "metadata": {
    "id": "_TikW1GpYl9G"
   }
  },
  {
   "cell_type": "code",
   "source": [
    "import preprocessor as p\n",
    "\n",
    "p.set_options(p.OPT.URL, p.OPT.EMOJI, p.OPT.SMILEY, p.OPT.NUMBER, p.OPT.MENTION, p.OPT.ESCAPE_CHAR)\n",
    "#forming a separate feature for cleaned tweets\n",
    "for i,v in enumerate(train_df['text']):\n",
    "    train_df.loc[i, 'text_prepro'] = p.clean(v)\n",
    "    \n",
    "train_df['text_prepro'] = train_df['text_prepro'].str.lower()"
   ],
   "metadata": {
    "id": "v22goKBuYp1d",
    "executionInfo": {
     "status": "ok",
     "timestamp": 1669525891412,
     "user_tz": 300,
     "elapsed": 6328,
     "user": {
      "displayName": "Romain Bazin",
      "userId": "09336063328901162165"
     }
    }
   },
   "execution_count": 25,
   "outputs": []
  },
  {
   "cell_type": "code",
   "source": [
    "train_df.sample(100)"
   ],
   "metadata": {
    "colab": {
     "base_uri": "https://localhost:8080/",
     "height": 1631
    },
    "id": "XrKWzP2DZY8e",
    "executionInfo": {
     "status": "ok",
     "timestamp": 1669525895498,
     "user_tz": 300,
     "elapsed": 230,
     "user": {
      "displayName": "Romain Bazin",
      "userId": "09336063328901162165"
     }
    },
    "outputId": "7825c6b2-35c8-4ff7-81af-72dbbe4f258b"
   },
   "execution_count": 26,
   "outputs": [
    {
     "output_type": "execute_result",
     "data": {
      "text/plain": [
       "         id          keyword                    location  \\\n",
       "6945   9961          tsunami          in the Word of God   \n",
       "718    1038         bleeding             Vero Beach , FL   \n",
       "4074   5792             hail  Calgary/Airdrie/RedDeer/AB   \n",
       "7110  10187  violent%20storm                  Costa Rica   \n",
       "108     158       aftershock    Instagram - @heyimginog    \n",
       "...     ...              ...                         ...   \n",
       "2655   3814         detonate               Morioh, Japan   \n",
       "4743   6746             lava                         NaN   \n",
       "7470  10687            wreck                         NaN   \n",
       "3983   5659         flooding   Nadiad ,Gujarat , India!!   \n",
       "1087   1572             bomb                         NaN   \n",
       "\n",
       "                                                   text  target  \\\n",
       "6945  @helene_yancey GodsLove &amp; #thankU my siste...       1   \n",
       "718   @JaydenNotJared I can't help it. Hope you're o...       0   \n",
       "4074  @tremblayeh we like big hail and we cannot lie...       0   \n",
       "7110  RT '@NASASolarSystem: Jupiter's Red Spot is a ...       0   \n",
       "108   @afterShock_DeLo im speaking from someone that...       0   \n",
       "...                                                 ...     ...   \n",
       "2655  @spinningbot Are you another Stand-user? If yo...       0   \n",
       "4743  I wish that the earth sea and sky up above\\r\\n...       0   \n",
       "7470                                       I am a wreck       0   \n",
       "3983  Thankkk U all Soo much for Flooding my Notific...       0   \n",
       "1087  The bomb was so appropriate ?? seen as my fami...       0   \n",
       "\n",
       "                                                 text_c  \\\n",
       "6945  @helene_yancey GodsLove thankU my sister Helen...   \n",
       "718   @JaydenNotJared I can't help it. Hope you're o...   \n",
       "4074  @tremblayeh we like big hail and we cannot lie...   \n",
       "7110  '@NASASolarSystem: Jupiter's Red Spot is a vio...   \n",
       "108   @afterShock_DeLo im speaking from someone that...   \n",
       "...                                                 ...   \n",
       "2655  @spinningbot Are you another Stand-user? If yo...   \n",
       "4743  I wish that the earth sea and sky up above wou...   \n",
       "7470                                       I am a wreck   \n",
       "3983  Thankkk U all Soo much for Flooding my Notific...   \n",
       "1087  The bomb was so appropriate ?? seen as my fami...   \n",
       "\n",
       "                                             text_clean  \\\n",
       "6945  GodsLove thankU my sister Helene for of NEW VI...   \n",
       "718   I can't help it. Hope you're ok. Text me if yo...   \n",
       "4074    we like big hail and we cannot lie!! SirMixAlot   \n",
       "7110  ' Jupiter's Red Spot is a violent storm larger...   \n",
       "108   im speaking from someone that is using a scuf ...   \n",
       "...                                                 ...   \n",
       "2655  Are you another Stand-user? If you are I will ...   \n",
       "4743  I wish that the earth sea and sky up above wou...   \n",
       "7470                                       I am a wreck   \n",
       "3983  Thankkk U all Soo much for Flooding my Notific...   \n",
       "1087  The bomb was so appropriate ?? seen as my fami...   \n",
       "\n",
       "                                            text_prepro  \n",
       "6945  godslove &amp; #thanku my sister helene for rt...  \n",
       "718   i can't help it. hope you're ok. text me if yo...  \n",
       "4074   we like big hail and we cannot lie!! #sirmixalot  \n",
       "7110  rt ': jupiter's red spot is a violent storm la...  \n",
       "108   im speaking from someone that is using a scuf ...  \n",
       "...                                                 ...  \n",
       "2655  are you another stand-user? if you are i will ...  \n",
       "4743  i wish that the earth sea and sky up abovewoul...  \n",
       "7470                                       i am a wreck  \n",
       "3983  thankkk u all soo much for flooding my notific...  \n",
       "1087  the bomb was so appropriate ?? seen as my fami...  \n",
       "\n",
       "[100 rows x 8 columns]"
      ],
      "text/html": [
       "\n",
       "  <div id=\"df-00b63e39-54ed-4f33-875a-1c76cfc0d427\">\n",
       "    <div class=\"colab-df-container\">\n",
       "      <div>\n",
       "<style scoped>\n",
       "    .dataframe tbody tr th:only-of-type {\n",
       "        vertical-align: middle;\n",
       "    }\n",
       "\n",
       "    .dataframe tbody tr th {\n",
       "        vertical-align: top;\n",
       "    }\n",
       "\n",
       "    .dataframe thead th {\n",
       "        text-align: right;\n",
       "    }\n",
       "</style>\n",
       "<table border=\"1\" class=\"dataframe\">\n",
       "  <thead>\n",
       "    <tr style=\"text-align: right;\">\n",
       "      <th></th>\n",
       "      <th>id</th>\n",
       "      <th>keyword</th>\n",
       "      <th>location</th>\n",
       "      <th>text</th>\n",
       "      <th>target</th>\n",
       "      <th>text_c</th>\n",
       "      <th>text_clean</th>\n",
       "      <th>text_prepro</th>\n",
       "    </tr>\n",
       "  </thead>\n",
       "  <tbody>\n",
       "    <tr>\n",
       "      <th>6945</th>\n",
       "      <td>9961</td>\n",
       "      <td>tsunami</td>\n",
       "      <td>in the Word of God</td>\n",
       "      <td>@helene_yancey GodsLove &amp;amp; #thankU my siste...</td>\n",
       "      <td>1</td>\n",
       "      <td>@helene_yancey GodsLove thankU my sister Helen...</td>\n",
       "      <td>GodsLove thankU my sister Helene for of NEW VI...</td>\n",
       "      <td>godslove &amp;amp; #thanku my sister helene for rt...</td>\n",
       "    </tr>\n",
       "    <tr>\n",
       "      <th>718</th>\n",
       "      <td>1038</td>\n",
       "      <td>bleeding</td>\n",
       "      <td>Vero Beach , FL</td>\n",
       "      <td>@JaydenNotJared I can't help it. Hope you're o...</td>\n",
       "      <td>0</td>\n",
       "      <td>@JaydenNotJared I can't help it. Hope you're o...</td>\n",
       "      <td>I can't help it. Hope you're ok. Text me if yo...</td>\n",
       "      <td>i can't help it. hope you're ok. text me if yo...</td>\n",
       "    </tr>\n",
       "    <tr>\n",
       "      <th>4074</th>\n",
       "      <td>5792</td>\n",
       "      <td>hail</td>\n",
       "      <td>Calgary/Airdrie/RedDeer/AB</td>\n",
       "      <td>@tremblayeh we like big hail and we cannot lie...</td>\n",
       "      <td>0</td>\n",
       "      <td>@tremblayeh we like big hail and we cannot lie...</td>\n",
       "      <td>we like big hail and we cannot lie!! SirMixAlot</td>\n",
       "      <td>we like big hail and we cannot lie!! #sirmixalot</td>\n",
       "    </tr>\n",
       "    <tr>\n",
       "      <th>7110</th>\n",
       "      <td>10187</td>\n",
       "      <td>violent%20storm</td>\n",
       "      <td>Costa Rica</td>\n",
       "      <td>RT '@NASASolarSystem: Jupiter's Red Spot is a ...</td>\n",
       "      <td>0</td>\n",
       "      <td>'@NASASolarSystem: Jupiter's Red Spot is a vio...</td>\n",
       "      <td>' Jupiter's Red Spot is a violent storm larger...</td>\n",
       "      <td>rt ': jupiter's red spot is a violent storm la...</td>\n",
       "    </tr>\n",
       "    <tr>\n",
       "      <th>108</th>\n",
       "      <td>158</td>\n",
       "      <td>aftershock</td>\n",
       "      <td>Instagram - @heyimginog</td>\n",
       "      <td>@afterShock_DeLo im speaking from someone that...</td>\n",
       "      <td>0</td>\n",
       "      <td>@afterShock_DeLo im speaking from someone that...</td>\n",
       "      <td>im speaking from someone that is using a scuf ...</td>\n",
       "      <td>im speaking from someone that is using a scuf ...</td>\n",
       "    </tr>\n",
       "    <tr>\n",
       "      <th>...</th>\n",
       "      <td>...</td>\n",
       "      <td>...</td>\n",
       "      <td>...</td>\n",
       "      <td>...</td>\n",
       "      <td>...</td>\n",
       "      <td>...</td>\n",
       "      <td>...</td>\n",
       "      <td>...</td>\n",
       "    </tr>\n",
       "    <tr>\n",
       "      <th>2655</th>\n",
       "      <td>3814</td>\n",
       "      <td>detonate</td>\n",
       "      <td>Morioh, Japan</td>\n",
       "      <td>@spinningbot Are you another Stand-user? If yo...</td>\n",
       "      <td>0</td>\n",
       "      <td>@spinningbot Are you another Stand-user? If yo...</td>\n",
       "      <td>Are you another Stand-user? If you are I will ...</td>\n",
       "      <td>are you another stand-user? if you are i will ...</td>\n",
       "    </tr>\n",
       "    <tr>\n",
       "      <th>4743</th>\n",
       "      <td>6746</td>\n",
       "      <td>lava</td>\n",
       "      <td>NaN</td>\n",
       "      <td>I wish that the earth sea and sky up above\\r\\n...</td>\n",
       "      <td>0</td>\n",
       "      <td>I wish that the earth sea and sky up above wou...</td>\n",
       "      <td>I wish that the earth sea and sky up above wou...</td>\n",
       "      <td>i wish that the earth sea and sky up abovewoul...</td>\n",
       "    </tr>\n",
       "    <tr>\n",
       "      <th>7470</th>\n",
       "      <td>10687</td>\n",
       "      <td>wreck</td>\n",
       "      <td>NaN</td>\n",
       "      <td>I am a wreck</td>\n",
       "      <td>0</td>\n",
       "      <td>I am a wreck</td>\n",
       "      <td>I am a wreck</td>\n",
       "      <td>i am a wreck</td>\n",
       "    </tr>\n",
       "    <tr>\n",
       "      <th>3983</th>\n",
       "      <td>5659</td>\n",
       "      <td>flooding</td>\n",
       "      <td>Nadiad ,Gujarat , India!!</td>\n",
       "      <td>Thankkk U all Soo much for Flooding my Notific...</td>\n",
       "      <td>0</td>\n",
       "      <td>Thankkk U all Soo much for Flooding my Notific...</td>\n",
       "      <td>Thankkk U all Soo much for Flooding my Notific...</td>\n",
       "      <td>thankkk u all soo much for flooding my notific...</td>\n",
       "    </tr>\n",
       "    <tr>\n",
       "      <th>1087</th>\n",
       "      <td>1572</td>\n",
       "      <td>bomb</td>\n",
       "      <td>NaN</td>\n",
       "      <td>The bomb was so appropriate ?? seen as my fami...</td>\n",
       "      <td>0</td>\n",
       "      <td>The bomb was so appropriate ?? seen as my fami...</td>\n",
       "      <td>The bomb was so appropriate ?? seen as my fami...</td>\n",
       "      <td>the bomb was so appropriate ?? seen as my fami...</td>\n",
       "    </tr>\n",
       "  </tbody>\n",
       "</table>\n",
       "<p>100 rows × 8 columns</p>\n",
       "</div>\n",
       "      <button class=\"colab-df-convert\" onclick=\"convertToInteractive('df-00b63e39-54ed-4f33-875a-1c76cfc0d427')\"\n",
       "              title=\"Convert this dataframe to an interactive table.\"\n",
       "              style=\"display:none;\">\n",
       "        \n",
       "  <svg xmlns=\"http://www.w3.org/2000/svg\" height=\"24px\"viewBox=\"0 0 24 24\"\n",
       "       width=\"24px\">\n",
       "    <path d=\"M0 0h24v24H0V0z\" fill=\"none\"/>\n",
       "    <path d=\"M18.56 5.44l.94 2.06.94-2.06 2.06-.94-2.06-.94-.94-2.06-.94 2.06-2.06.94zm-11 1L8.5 8.5l.94-2.06 2.06-.94-2.06-.94L8.5 2.5l-.94 2.06-2.06.94zm10 10l.94 2.06.94-2.06 2.06-.94-2.06-.94-.94-2.06-.94 2.06-2.06.94z\"/><path d=\"M17.41 7.96l-1.37-1.37c-.4-.4-.92-.59-1.43-.59-.52 0-1.04.2-1.43.59L10.3 9.45l-7.72 7.72c-.78.78-.78 2.05 0 2.83L4 21.41c.39.39.9.59 1.41.59.51 0 1.02-.2 1.41-.59l7.78-7.78 2.81-2.81c.8-.78.8-2.07 0-2.86zM5.41 20L4 18.59l7.72-7.72 1.47 1.35L5.41 20z\"/>\n",
       "  </svg>\n",
       "      </button>\n",
       "      \n",
       "  <style>\n",
       "    .colab-df-container {\n",
       "      display:flex;\n",
       "      flex-wrap:wrap;\n",
       "      gap: 12px;\n",
       "    }\n",
       "\n",
       "    .colab-df-convert {\n",
       "      background-color: #E8F0FE;\n",
       "      border: none;\n",
       "      border-radius: 50%;\n",
       "      cursor: pointer;\n",
       "      display: none;\n",
       "      fill: #1967D2;\n",
       "      height: 32px;\n",
       "      padding: 0 0 0 0;\n",
       "      width: 32px;\n",
       "    }\n",
       "\n",
       "    .colab-df-convert:hover {\n",
       "      background-color: #E2EBFA;\n",
       "      box-shadow: 0px 1px 2px rgba(60, 64, 67, 0.3), 0px 1px 3px 1px rgba(60, 64, 67, 0.15);\n",
       "      fill: #174EA6;\n",
       "    }\n",
       "\n",
       "    [theme=dark] .colab-df-convert {\n",
       "      background-color: #3B4455;\n",
       "      fill: #D2E3FC;\n",
       "    }\n",
       "\n",
       "    [theme=dark] .colab-df-convert:hover {\n",
       "      background-color: #434B5C;\n",
       "      box-shadow: 0px 1px 3px 1px rgba(0, 0, 0, 0.15);\n",
       "      filter: drop-shadow(0px 1px 2px rgba(0, 0, 0, 0.3));\n",
       "      fill: #FFFFFF;\n",
       "    }\n",
       "  </style>\n",
       "\n",
       "      <script>\n",
       "        const buttonEl =\n",
       "          document.querySelector('#df-00b63e39-54ed-4f33-875a-1c76cfc0d427 button.colab-df-convert');\n",
       "        buttonEl.style.display =\n",
       "          google.colab.kernel.accessAllowed ? 'block' : 'none';\n",
       "\n",
       "        async function convertToInteractive(key) {\n",
       "          const element = document.querySelector('#df-00b63e39-54ed-4f33-875a-1c76cfc0d427');\n",
       "          const dataTable =\n",
       "            await google.colab.kernel.invokeFunction('convertToInteractive',\n",
       "                                                     [key], {});\n",
       "          if (!dataTable) return;\n",
       "\n",
       "          const docLinkHtml = 'Like what you see? Visit the ' +\n",
       "            '<a target=\"_blank\" href=https://colab.research.google.com/notebooks/data_table.ipynb>data table notebook</a>'\n",
       "            + ' to learn more about interactive tables.';\n",
       "          element.innerHTML = '';\n",
       "          dataTable['output_type'] = 'display_data';\n",
       "          await google.colab.output.renderOutput(dataTable, element);\n",
       "          const docLink = document.createElement('div');\n",
       "          docLink.innerHTML = docLinkHtml;\n",
       "          element.appendChild(docLink);\n",
       "        }\n",
       "      </script>\n",
       "    </div>\n",
       "  </div>\n",
       "  "
      ]
     },
     "metadata": {},
     "execution_count": 26
    }
   ]
  },
  {
   "cell_type": "markdown",
   "source": [
    "Seems pretty good but :\n",
    "\n",
    "* Doesn't remove dates\n",
    "* Removes text in between two urls\n",
    "* Removes the whole hashtag, we would rather remove the \"#\" character"
   ],
   "metadata": {
    "id": "--IDULGtaAOd"
   }
  },
  {
   "cell_type": "markdown",
   "metadata": {
    "id": "O6-2Qo4aNEJE"
   },
   "source": [
    "### Missing values"
   ]
  },
  {
   "cell_type": "code",
   "execution_count": null,
   "metadata": {
    "id": "56iueO-HNEJE",
    "outputId": "e8384a07-d328-4178-d38f-98a8c9a1400b"
   },
   "outputs": [
    {
     "data": {
      "text/plain": [
       "(id             0\n",
       " keyword       61\n",
       " location    2533\n",
       " text           0\n",
       " target         0\n",
       " dtype: int64,\n",
       " id             0\n",
       " keyword       26\n",
       " location    1105\n",
       " text           0\n",
       " dtype: int64)"
      ]
     },
     "execution_count": 27,
     "metadata": {},
     "output_type": "execute_result"
    }
   ],
   "source": [
    "# count the missing values in the train and test set\n",
    "train_df.isna().sum(), test_df.isna().sum()\n"
   ]
  }
 ],
 "metadata": {
  "kernelspec": {
   "display_name": "Python 3 (ipykernel)",
   "language": "python",
   "name": "python3"
  },
  "language_info": {
   "codemirror_mode": {
    "name": "ipython",
    "version": 3
   },
   "file_extension": ".py",
   "mimetype": "text/x-python",
   "name": "python",
   "nbconvert_exporter": "python",
   "pygments_lexer": "ipython3",
   "version": "3.8.13"
  },
  "vscode": {
   "interpreter": {
    "hash": "9162f4b2036204c2f1edb89fcc4c89ca2369e5ed239b2bf2fea8cedfe92ef4ab"
   }
  },
  "colab": {
   "provenance": []
  }
 },
 "nbformat": 4,
 "nbformat_minor": 0
}

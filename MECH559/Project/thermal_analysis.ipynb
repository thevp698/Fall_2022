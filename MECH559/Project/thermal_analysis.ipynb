{
 "cells": [
  {
   "cell_type": "code",
   "execution_count": 2,
   "metadata": {},
   "outputs": [],
   "source": [
    "import numpy as np\n",
    "import matplotlib.pyplot as plt\n",
    "from matplotlib import patches\n",
    "import matplotlib.lines as mlines\n",
    "from IPython.display import display, Latex"
   ]
  },
  {
   "cell_type": "code",
   "execution_count": 3,
   "metadata": {},
   "outputs": [],
   "source": [
    "A = np.array([[1,0,0],[0,-1,0],[0,0,-1],[-1,0,0]]) # coefficient matrix for linear constraints\n",
    "b = np.array([316,0,0,0]) # solution vector for linear constraints\n",
    "#x = [del_T, r, A]\n",
    "def obj(x):\n",
    "    \"\"\"\n",
    "    function to evaluate objective function\n",
    "    \"\"\"\n",
    "    c = 0.9*0.4*50*1194*1000/(0.381*0.5*2*3.14)\n",
    "    h = 10\n",
    "\n",
    "    \n",
    "    f = c*x[1] - h*x[2]*x[0]\n",
    "    dfdx = np.array([-h*x[2], c, -h*x[0]]) # it should an n-element vector\n",
    "\n",
    "    \"\"\"\n",
    "    in case of simulation:\n",
    "    write x to a text file or as command line arguments\n",
    "    call/run simulation (either reads the text file or accepts arguments)\n",
    "    read results from a text file (output by the simulation)\n",
    "    f = ...\n",
    "    see examples in 9_dfo\n",
    "    \"\"\"\n",
    "\n",
    "    return f, dfdx\n",
    "\n",
    "# def nonlincon(x):\n",
    "#     \"\"\"\n",
    "#     function that evaluates general nonlinear constraints\n",
    "#     \"\"\"\n",
    "\n",
    "#     # evaluate constraints\n",
    "#     g = np.array([x[1] - 0.2*x[0]**2, ]) # it should an m-element vector\n",
    "\n",
    "#     return g\n",
    "\n",
    "# def nonlinconJac(x):\n",
    "#     \"\"\"\n",
    "#     function that evaluates gradients of general nonlinear constraints\n",
    "#     \"\"\"\n",
    "\n",
    "#     # evaluate constraint derivatives\n",
    "#     dgdx = np.array([[-0.4*x[0], 1]]) # it should be a mxn array\n",
    "\n",
    "#     return dgdx\n",
    "\n",
    "# for SLSQP constraints need to be passed to a list of dictionaries (see below)\n",
    "def lincon(x):\n",
    "    return (A @ x.reshape((-1,1)) - b.reshape((-1,1))).squeeze()\n",
    "\n",
    "def linconJac(x):\n",
    "    return A"
   ]
  },
  {
   "cell_type": "code",
   "execution_count": 4,
   "metadata": {},
   "outputs": [
    {
     "name": "stdout",
     "output_type": "stream",
     "text": [
      "===========================\n"
     ]
    },
    {
     "data": {
      "text/latex": [
       "$f(\\mathbf{x}^*) = 1810886.6768$"
      ],
      "text/plain": [
       "<IPython.core.display.Latex object>"
      ]
     },
     "metadata": {},
     "output_type": "display_data"
    },
    {
     "data": {
      "text/latex": [
       "$\\mathbf{x}^*$ = $[315.9665~~0.1008~~0.1195]^\\mathrm{T}$"
      ],
      "text/plain": [
       "<IPython.core.display.Latex object>"
      ]
     },
     "metadata": {},
     "output_type": "display_data"
    },
    {
     "name": "stdout",
     "output_type": "stream",
     "text": [
      "315.9665347268336\n",
      "0.10082300111328878\n",
      "0.11951557752906128\n"
     ]
    }
   ],
   "source": [
    "from scipy.optimize import minimize, LinearConstraint\n",
    "x0 = np.array([1,0.100823,0.10096])\n",
    "n = 2 # variables\n",
    "m = 1 # nonlinear inequality constraint\n",
    "bounds = [(1,316),(0.100823,0.1259),(0.10096,0.119522)]\n",
    "\n",
    "# choose an algorithm\n",
    "# method = \"SLSQP\"\n",
    "method = \"trust-constr\"\n",
    "\n",
    "if method == \"SLSQP\":\n",
    "    # for SLSQP constraints need to be passed as a list of dictionaries (read the documentation!!)\n",
    "\n",
    "    constraints = []\n",
    "    for A_i,b_i in zip(A,b):\n",
    "        lin_cstr = {\n",
    "            \"type\": \"ineq\", # ‘eq’ for equality, ‘ineq’ for inequality.\n",
    "            \"fun\": lambda x : A_i @ x - b_i, # The function defining the constraint.\n",
    "            \"jac\": lambda x : A_i, # The Jacobian of fun (only for SLSQP).\n",
    "        }\n",
    "        constraints += [lin_cstr]\n",
    "\n",
    "    # lin_cstr = {\n",
    "    #     \"type\": \"ineq\", # ‘eq’ for equality, ‘ineq’ for inequality.\n",
    "    #     \"fun\": lincon, # The function defining the constraint.\n",
    "    #     \"jac\": linconJac, # The Jacobian of fun (only for SLSQP).\n",
    "    # }\n",
    "    # constraints += [lin_cstr]\n",
    "\n",
    "\n",
    "    # nonlin_cstr = {\n",
    "    #     \"type\": \"ineq\", # ‘eq’ for equality, ‘ineq’ for inequality.\n",
    "    #     \"fun\": nonlincon, # The function defining the constraint.\n",
    "    #     \"jac\": nonlinconJac, # The Jacobian of fun (only for SLSQP).\n",
    "    # }\n",
    "    # constraints += [nonlin_cstr]\n",
    "\n",
    "elif method == \"trust-constr\":\n",
    "    # for trust-constr constraints is a list of constraint objects (linear or nonlinear)\n",
    "    lin_cstr = LinearConstraint(A,lb=-np.inf,ub=b)\n",
    "    # nonlin_cstr = NonlinearConstraint(nonlincon,lb=-np.inf,ub=np.zeros(m),jac=nonlinconJac)\n",
    "    constraints = [lin_cstr]\n",
    "\n",
    "opt = minimize(obj, x0, args=(), method=method, jac=True, hess=None, hessp=None, \n",
    "    bounds=bounds, constraints=constraints, tol=1e-6, callback=None, options=None)\n",
    "\n",
    "print(\"===========================\")\n",
    "display(Latex(r\"$f(\\mathbf{x}^*) = %.4f$\" %(opt.fun)))\n",
    "display(Latex(r\"$\\mathbf{x}^*$ = $[%.4f~~%.4f~~%.4f]^\\mathrm{T}$\" %(opt.x[0],opt.x[1],opt.x[2])))\n",
    "print(opt.x[0])\n",
    "print(opt.x[1])\n",
    "print(opt.x[2])\n",
    "# if method == \"trust-constr\":\n",
    "    # evaluate constraints\n",
    "    # g1_opt = opt.constr[1][0]\n",
    "    # g2_opt = opt.constr[0][0] - b[0]\n",
    "    # g3_opt = opt.constr[0][1] - b[1]\n",
    "    # g4_opt = opt.constr[0][2] - b[2]\n",
    "    # display(Latex(r\"$\\mathbf{g}(\\mathbf{x}^*)$ = $[%.4f~~%.4f~~%.4f~~%.4f]^\\mathrm{T}$\" %(g1_opt,g2_opt,g3_opt,g4_opt)))"
   ]
  },
  {
   "cell_type": "code",
   "execution_count": null,
   "metadata": {},
   "outputs": [],
   "source": [
    "#x = [del_T, r, A]\n",
    "def obj(x):\n",
    "    \"\"\"\n",
    "    The objective\n",
    "    \"\"\"\n",
    "    c = 0.9*0.4*50*1194*1000/(0.381*0.5*2*3.14)\n",
    "    h = 10\n",
    "    return c*x[1] - h*x[0]*x[2] + rk*((-1/(x[0]-316)) + (1/x[0]) + (1/x[2]) + (1/x[1]) + (-1/(0.1-x[2])) + (-1/(x[2]-0.1195)) + (-1/(0.1-x[1])) + (-1/(x[1]-0.1259))) "
   ]
  },
  {
   "cell_type": "code",
   "execution_count": null,
   "metadata": {},
   "outputs": [],
   "source": [
    "def grad(x):\n",
    "    \"\"\"\n",
    "    The gradient\n",
    "    \"\"\"\n",
    "    c = 0.9*0.4*50*1194*1000/(0.381*0.5*2*3.14)\n",
    "    h = 10\n",
    "    return [-rk*((1/(x[2]-x[0])**2) + (1/(x[1]-x[0])**2) - (1/(x[0]**2))),\n",
    "            (-2*c*x[1]/((x[1]**2)-(x[2]**2))**2) + rk*(((2*d*(x[1]+s-rc))/((d*((x[1]+s-rc)**2)-sigma_y)**2))- (1/((x[2]-x[1])**2)) +(1/(x[1]-x[0])**2) +(1/x[1]**2)),\n",
    "            (2*c*x[2]/((x[1]**2)-[x[2]**2])**2) + rk*((1/(x[2]-x[0])**2) + (1/(x[2]-x[1])**2) + (1/(x[2]**2)))]"
   ]
  },
  {
   "cell_type": "code",
   "execution_count": null,
   "metadata": {},
   "outputs": [],
   "source": [
    "r = [10.0, 1.0, 0.1, 0.01, 0.001] # sequence of decreasing r\"s\n",
    "r = r[0:5]\n",
    "x0 = [0.10, 0.099, 0.07]\n",
    "for k,rk in enumerate(r):\n",
    "    x_opt = minimize(obj,x0,jac=grad,method=\"BFGS\",options={\"gtol\": 1e-8, \"maxiter\": 1000, \"disp\": False})\n",
    "    f_opt = obj(x_opt.x)\n",
    "\n",
    "    # optimizer\n",
    "    x0 = x_opt.x\n",
    "\n",
    "    print(\"===========================\")\n",
    "    display(Latex(r\"$k = %i$\" %(k+1)))\n",
    "    display(Latex(r\"$\\mathbf{x}_k^*$ = $[%.4f~,%.4f~,%.4f~]^\\mathrm{T}$\" %(x_opt.x[0],x_opt.x[1],x_opt.x[2])))\n"
   ]
  }
 ],
 "metadata": {
  "kernelspec": {
   "display_name": "Python 3.10.2 ('vraj_env')",
   "language": "python",
   "name": "python3"
  },
  "language_info": {
   "codemirror_mode": {
    "name": "ipython",
    "version": 3
   },
   "file_extension": ".py",
   "mimetype": "text/x-python",
   "name": "python",
   "nbconvert_exporter": "python",
   "pygments_lexer": "ipython3",
   "version": "3.10.2"
  },
  "orig_nbformat": 4,
  "vscode": {
   "interpreter": {
    "hash": "eec488c7b091d5f7d94ea5d9efae198c852ccc492eaac797cd736fd7afffe431"
   }
  }
 },
 "nbformat": 4,
 "nbformat_minor": 2
}

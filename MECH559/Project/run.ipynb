{
 "cells": [
  {
   "cell_type": "code",
   "execution_count": 3,
   "metadata": {},
   "outputs": [
    {
     "name": "stderr",
     "output_type": "stream",
     "text": [
      "c:\\Users\\vrajp\\python_stuff\\venvs\\vraj_env\\lib\\site-packages\\OMADS\\POLL.py:103: UserWarning: MS Windows does not support precision with the {1e-18} high resolution of the python numerical library (numpy) so high precision will be changed to medium precision which supports {1e-15} resolution check: https://numpy.org/doc/stable/user/basics.types.html\n",
      "  warnings.warn(\"MS Windows does not support precision with the {1e-18} high resolution of the python numerical library (numpy) so high precision will be changed to medium precision which supports {1e-15} resolution check: https://numpy.org/doc/stable/user/basics.types.html\")\n",
      "ERROR:root:Callable <bound method SubProblem.evaluate of SubProblem()> evaluation returned an error at the poll point [1.0, 1.0, 1.0, 1.0]\n"
     ]
    },
    {
     "ename": "UnboundLocalError",
     "evalue": "local variable 'f_eval' referenced before assignment",
     "output_type": "error",
     "traceback": [
      "\u001b[1;31m---------------------------------------------------------------------------\u001b[0m",
      "\u001b[1;31mUnboundLocalError\u001b[0m                         Traceback (most recent call last)",
      "Cell \u001b[1;32mIn [3], line 5\u001b[0m\n\u001b[0;32m      3\u001b[0m MDAO \u001b[39m=\u001b[39m Rotor_design()\n\u001b[0;32m      4\u001b[0m MDAO\u001b[39m.\u001b[39mnoprogress_stop \u001b[39m=\u001b[39m \u001b[39m5\u001b[39m\n\u001b[1;32m----> 5\u001b[0m out \u001b[39m=\u001b[39m MDAO\u001b[39m.\u001b[39mrun()\n\u001b[0;32m      6\u001b[0m \u001b[39mprint\u001b[39m(out)\n",
      "File \u001b[1;32mc:\\Users\\vrajp\\python_stuff\\venvs\\vraj_env\\lib\\site-packages\\DMDO\\DMDO.py:874\u001b[0m, in \u001b[0;36mMDO.run\u001b[1;34m(self)\u001b[0m\n\u001b[0;32m    871\u001b[0m \u001b[39melse\u001b[39;00m:\n\u001b[0;32m    872\u001b[0m   \u001b[39mself\u001b[39m\u001b[39m.\u001b[39msubProblems[s]\u001b[39m.\u001b[39mcoord\u001b[39m.\u001b[39mmaster_vars \u001b[39m=\u001b[39m copy\u001b[39m.\u001b[39mdeepcopy(\u001b[39mself\u001b[39m\u001b[39m.\u001b[39mCoordinator\u001b[39m.\u001b[39mmaster_vars)\n\u001b[1;32m--> 874\u001b[0m out_sp \u001b[39m=\u001b[39m \u001b[39mself\u001b[39;49m\u001b[39m.\u001b[39;49msubProblems[s]\u001b[39m.\u001b[39;49msolve(\u001b[39mself\u001b[39;49m\u001b[39m.\u001b[39;49mCoordinator\u001b[39m.\u001b[39;49mv, \u001b[39mself\u001b[39;49m\u001b[39m.\u001b[39;49mCoordinator\u001b[39m.\u001b[39;49mw)\n\u001b[0;32m    875\u001b[0m \u001b[39mself\u001b[39m\u001b[39m.\u001b[39mCoordinator \u001b[39m=\u001b[39m copy\u001b[39m.\u001b[39mdeepcopy(\u001b[39mself\u001b[39m\u001b[39m.\u001b[39msubProblems[s]\u001b[39m.\u001b[39mcoord)\n\u001b[0;32m    876\u001b[0m \u001b[39mif\u001b[39;00m \u001b[39mself\u001b[39m\u001b[39m.\u001b[39msubProblems[s]\u001b[39m.\u001b[39mindex \u001b[39m==\u001b[39m \u001b[39mself\u001b[39m\u001b[39m.\u001b[39mCoordinator\u001b[39m.\u001b[39mindex_of_master_SP:\n",
      "File \u001b[1;32mc:\\Users\\vrajp\\python_stuff\\venvs\\vraj_env\\lib\\site-packages\\DMDO\\DMDO.py:719\u001b[0m, in \u001b[0;36mSubProblem.solve\u001b[1;34m(self, v, w)\u001b[0m\n\u001b[0;32m    717\u001b[0m out \u001b[39m=\u001b[39m {}\n\u001b[0;32m    718\u001b[0m pinit \u001b[39m=\u001b[39m \u001b[39mself\u001b[39m\u001b[39m.\u001b[39mpsize\n\u001b[1;32m--> 719\u001b[0m out \u001b[39m=\u001b[39m \u001b[39mself\u001b[39;49m\u001b[39m.\u001b[39;49moptimizer(data)\n\u001b[0;32m    720\u001b[0m \u001b[39mif\u001b[39;00m \u001b[39mself\u001b[39m\u001b[39m.\u001b[39mpsize_init \u001b[39m==\u001b[39m PSIZE_UPDATE\u001b[39m.\u001b[39mDEFAULT:\n\u001b[0;32m    721\u001b[0m   \u001b[39mself\u001b[39m\u001b[39m.\u001b[39mpsize \u001b[39m=\u001b[39m \u001b[39m1.\u001b[39m\n",
      "File \u001b[1;32mc:\\Users\\vrajp\\python_stuff\\venvs\\vraj_env\\lib\\site-packages\\OMADS\\POLL.py:1342\u001b[0m, in \u001b[0;36mmain\u001b[1;34m(*args)\u001b[0m\n\u001b[0;32m   1335\u001b[0m   \u001b[39mraise\u001b[39;00m \u001b[39mIOError\u001b[39;00m(\u001b[39m\"\u001b[39m\u001b[39mThe first input argument couldn\u001b[39m\u001b[39m'\u001b[39m\u001b[39mt be recognized. \u001b[39m\u001b[39m\"\u001b[39m\n\u001b[0;32m   1336\u001b[0m           \u001b[39m\"\u001b[39m\u001b[39mIt should be either a dictionary object or a JSON file that holds \u001b[39m\u001b[39m\"\u001b[39m\n\u001b[0;32m   1337\u001b[0m           \u001b[39m\"\u001b[39m\u001b[39mthe required input parameters.\u001b[39m\u001b[39m\"\u001b[39m)\n\u001b[0;32m   1339\u001b[0m \u001b[39m\"\"\" Run preprocessor for the setup of\u001b[39;00m\n\u001b[0;32m   1340\u001b[0m \u001b[39m the optimization problem and for the initialization\u001b[39;00m\n\u001b[0;32m   1341\u001b[0m \u001b[39mof optimization process \"\"\"\u001b[39;00m\n\u001b[1;32m-> 1342\u001b[0m iteration, xmin, poll, options, param, post, out \u001b[39m=\u001b[39m PreMADS(data)\u001b[39m.\u001b[39;49minitialize_from_dict()\n\u001b[0;32m   1344\u001b[0m \u001b[39m\"\"\" Set the random seed for results reproducibility \"\"\"\u001b[39;00m\n\u001b[0;32m   1345\u001b[0m \u001b[39mif\u001b[39;00m \u001b[39mlen\u001b[39m(args) \u001b[39m<\u001b[39m \u001b[39m4\u001b[39m:\n",
      "File \u001b[1;32mc:\\Users\\vrajp\\python_stuff\\venvs\\vraj_env\\lib\\site-packages\\OMADS\\POLL.py:1190\u001b[0m, in \u001b[0;36mPreMADS.initialize_from_dict\u001b[1;34m(self)\u001b[0m\n\u001b[0;32m   1188\u001b[0m x_start\u001b[39m.\u001b[39mcoordinates \u001b[39m=\u001b[39m param\u001b[39m.\u001b[39mbaseline\n\u001b[0;32m   1189\u001b[0m x_start\u001b[39m.\u001b[39mdtype\u001b[39m.\u001b[39mprecision \u001b[39m=\u001b[39m options\u001b[39m.\u001b[39mprecision\n\u001b[1;32m-> 1190\u001b[0m poll\u001b[39m.\u001b[39mbb_output \u001b[39m=\u001b[39m poll\u001b[39m.\u001b[39;49mbb_handle\u001b[39m.\u001b[39;49meval(x_start\u001b[39m.\u001b[39;49mcoordinates)\n\u001b[0;32m   1191\u001b[0m x_start\u001b[39m.\u001b[39m__eval__(poll\u001b[39m.\u001b[39mbb_output)\n\u001b[0;32m   1192\u001b[0m \u001b[39m\"\"\" 8- Copy the starting point object to the poll's  minimizer subclass \"\"\"\u001b[39;00m\n",
      "File \u001b[1;32mc:\\Users\\vrajp\\python_stuff\\venvs\\vraj_env\\lib\\site-packages\\OMADS\\POLL.py:279\u001b[0m, in \u001b[0;36mEvaluator.eval\u001b[1;34m(self, values)\u001b[0m\n\u001b[0;32m    277\u001b[0m   \u001b[39melse\u001b[39;00m:\n\u001b[0;32m    278\u001b[0m     \u001b[39mraise\u001b[39;00m \u001b[39mIOError\u001b[39;00m(\u001b[39mf\u001b[39m\u001b[39m'\u001b[39m\u001b[39mThe callable \u001b[39m\u001b[39m{\u001b[39;00m\u001b[39mstr\u001b[39m(\u001b[39mself\u001b[39m\u001b[39m.\u001b[39mblackbox)\u001b[39m}\u001b[39;00m\u001b[39m requires \u001b[39m\u001b[39m{\u001b[39;00mnpar\u001b[39m}\u001b[39;00m\u001b[39m input args, but only two input args can be provided as the constants list is defined!\u001b[39m\u001b[39m'\u001b[39m)\n\u001b[1;32m--> 279\u001b[0m \u001b[39mif\u001b[39;00m \u001b[39misinstance\u001b[39m(f_eval, \u001b[39mlist\u001b[39m):\n\u001b[0;32m    280\u001b[0m   \u001b[39mreturn\u001b[39;00m f_eval\n\u001b[0;32m    281\u001b[0m \u001b[39melif\u001b[39;00m \u001b[39misinstance\u001b[39m(f_eval, \u001b[39mfloat\u001b[39m) \u001b[39mor\u001b[39;00m \u001b[39misinstance\u001b[39m(f_eval, \u001b[39mint\u001b[39m):\n",
      "\u001b[1;31mUnboundLocalError\u001b[0m: local variable 'f_eval' referenced before assignment"
     ]
    }
   ],
   "source": [
    "from MECH_559 import Rotor_design\n",
    "\n",
    "MDAO = Rotor_design()\n",
    "MDAO.noprogress_stop = 5\n",
    "out = MDAO.run()\n",
    "print(out)"
   ]
  },
  {
   "cell_type": "code",
   "execution_count": 2,
   "metadata": {},
   "outputs": [
    {
     "name": "stdout",
     "output_type": "stream",
     "text": [
      "------Run_Summary------\n"
     ]
    },
    {
     "ename": "NameError",
     "evalue": "name 'MDAO' is not defined",
     "output_type": "error",
     "traceback": [
      "\u001b[1;31m---------------------------------------------------------------------------\u001b[0m",
      "\u001b[1;31mNameError\u001b[0m                                 Traceback (most recent call last)",
      "Cell \u001b[1;32mIn [2], line 3\u001b[0m\n\u001b[0;32m      1\u001b[0m \u001b[39mimport\u001b[39;00m \u001b[39mnumpy\u001b[39;00m \u001b[39mas\u001b[39;00m \u001b[39mnp\u001b[39;00m\n\u001b[0;32m      2\u001b[0m \u001b[39mprint\u001b[39m(\u001b[39mf\u001b[39m\u001b[39m'\u001b[39m\u001b[39m------Run_Summary------\u001b[39m\u001b[39m'\u001b[39m)\n\u001b[1;32m----> 3\u001b[0m \u001b[39mprint\u001b[39m(MDAO\u001b[39m.\u001b[39mstop)\n\u001b[0;32m      4\u001b[0m \u001b[39mprint\u001b[39m(\u001b[39mf\u001b[39m\u001b[39m'\u001b[39m\u001b[39mq = \u001b[39m\u001b[39m{\u001b[39;00mMDAO\u001b[39m.\u001b[39mCoordinator\u001b[39m.\u001b[39mq\u001b[39m}\u001b[39;00m\u001b[39m'\u001b[39m)\n\u001b[0;32m      5\u001b[0m index \u001b[39m=\u001b[39m np\u001b[39m.\u001b[39margmax(MDAO\u001b[39m.\u001b[39mCoordinator\u001b[39m.\u001b[39mq)\n",
      "\u001b[1;31mNameError\u001b[0m: name 'MDAO' is not defined"
     ]
    }
   ],
   "source": [
    "import numpy as np\n",
    "print(f'------Run_Summary------')\n",
    "print(MDAO.stop)\n",
    "print(f'q = {MDAO.Coordinator.q}')\n",
    "index = np.argmax(MDAO.Coordinator.q)\n",
    "for i in MDAO.Coordinator.master_vars:\n",
    "    print(f'{i.name}_{i.sp_index} = {i.value}')"
   ]
  },
  {
   "cell_type": "code",
   "execution_count": null,
   "metadata": {},
   "outputs": [],
   "source": [
    "fmin = 0\n",
    "hmax = -np.inf\n",
    "for j in range(len(MDAO.subProblems)):\n",
    "\n",
    "    fmin = MDAO.subProblems[j].MDA_process.getOutputs()\n",
    "    hmin = MDAO.subProblems[j].opt([s.value for s in MDAO.subProblems[j].get_design_vars()] , MDAO.subProblems[j].MDA_process.getOutputs())[1]\n",
    "\n",
    "    print(f'SP_{MDAO.subProblems[j].index}: fmin= {fmin}), hmin= {hmin}')\n",
    "    if MDAO.subProblems[j].is_main:\n",
    "        fmin = MDAO.subProblems[j].MDA_process.getOutputs()\n",
    "        hmin = MDAO.subProblems[j].opt([s.value for s in MDAO.subProblems[j].get_design_vars()] , MDAO.subProblems[j].MDA_process.getOutputs())[1]\n",
    "        if max(hmin) > hmax:\n",
    "            hmax = max(hmin)\n",
    "print(f'P_main: fmin= {fmin}, hmax= {hmax}')\n",
    "print(f'Final obj value of the main problem: \\n {fmin}')"
   ]
  }
 ],
 "metadata": {
  "kernelspec": {
   "display_name": "Python 3.10.2 ('vraj_env')",
   "language": "python",
   "name": "python3"
  },
  "language_info": {
   "codemirror_mode": {
    "name": "ipython",
    "version": 3
   },
   "file_extension": ".py",
   "mimetype": "text/x-python",
   "name": "python",
   "nbconvert_exporter": "python",
   "pygments_lexer": "ipython3",
   "version": "3.10.2"
  },
  "orig_nbformat": 4,
  "vscode": {
   "interpreter": {
    "hash": "eec488c7b091d5f7d94ea5d9efae198c852ccc492eaac797cd736fd7afffe431"
   }
  }
 },
 "nbformat": 4,
 "nbformat_minor": 2
}
